{
 "cells": [
  {
   "cell_type": "markdown",
   "metadata": {
    "colab_type": "text",
    "id": "NGGrt9EYlCqY"
   },
   "source": [
    "\n",
    "\n",
    "# Train Practice\n",
    "\n",
    "## *Data Science Unit 4 Sprint 2 Assignment 2*\n",
    "\n",
    "Continue to use TensorFlow Keras & a sample of the [Quickdraw dataset](https://github.com/googlecreativelab/quickdraw-dataset) to build a sketch classification model. The dataset has been sampled to only 10 classes and 10000 observations per class. Please build a baseline classification model then run a few experiments with different optimizers and learning rates. \n",
    "\n",
    "*Don't forgot to switch to GPU on Colab!*\n",
    "\n",
    "\n",
    "------\n",
    "\n",
    "# Objective \n",
    "\n",
    "We are going to run a few experiments today\n",
    "\n",
    "- Train a model with and without normalized data and investigate the weight values and learning outcomes\n",
    "- Train a model with varying values for batch_size, learning_rate, and optimizers\n",
    "\n",
    "We are essentially running mannual gridsearches on our models. In module 3, we'll learn a few different ways to automate gridseach for deep learning. "
   ]
  },
  {
   "cell_type": "code",
   "execution_count": 1,
   "metadata": {},
   "outputs": [],
   "source": [
    "import os\n",
    "import datetime\n",
    "import random\n",
    "\n",
    "import numpy as np\n",
    "import pandas as pd\n",
    "import matplotlib.pyplot as plt\n",
    "\n",
    "import tensorflow as tf\n",
    "from tensorflow.keras import Sequential\n",
    "from tensorflow.keras.layers import Dense, ReLU\n",
    "from sklearn.model_selection import train_test_split\n",
    "\n",
    "from tensorflow.keras.optimizers import SGD\n",
    "from tensorflow.keras.optimizers import Adam\n",
    "from keras.activations import relu\n",
    "from tensorflow.keras.callbacks import TensorBoard"
   ]
  },
  {
   "cell_type": "code",
   "execution_count": 2,
   "metadata": {},
   "outputs": [],
   "source": [
    "%matplotlib inline\n",
    "%load_ext tensorboard"
   ]
  },
  {
   "cell_type": "markdown",
   "metadata": {},
   "source": [
    "### Load data\n",
    "\n",
    "- Don't normalize your data just yet!"
   ]
  },
  {
   "cell_type": "code",
   "execution_count": 3,
   "metadata": {
    "colab": {},
    "colab_type": "code",
    "id": "nJsIsrvp7O3e"
   },
   "outputs": [],
   "source": [
    "def load_quickdraw10():\n",
    "    \"\"\"\n",
    "    Returns a shuffled feature and target array\n",
    "    \n",
    "    Parameters\n",
    "    ----------\n",
    "    None\n",
    "    \n",
    "    Returns\n",
    "    -------\n",
    "    X: the feature array\n",
    "    Y: the target array\n",
    "    \"\"\"\n",
    "    \n",
    "    URL_ = \"https://github.com/LambdaSchool/DS-Unit-4-Sprint-2-Neural-Networks/blob/main/quickdraw10.npz?raw=true\"\n",
    "    \n",
    "    path_to_zip = tf.keras.utils.get_file('./quickdraw10.npz', origin=URL_, extract=False)\n",
    "\n",
    "    data = np.load(path_to_zip)\n",
    "\n",
    "    X = data['arr_0']\n",
    "    Y = data['arr_1']\n",
    "        \n",
    "    return train_test_split(X, Y, shuffle=True)"
   ]
  },
  {
   "cell_type": "code",
   "execution_count": 4,
   "metadata": {},
   "outputs": [],
   "source": [
    "X_train, X_test, y_train, y_test = load_quickdraw10()"
   ]
  },
  {
   "cell_type": "code",
   "execution_count": 5,
   "metadata": {},
   "outputs": [],
   "source": [
    "n_labels = len(np.unique(y_train))"
   ]
  },
  {
   "cell_type": "markdown",
   "metadata": {
    "colab_type": "text",
    "id": "l-6PxI6H5__2"
   },
   "source": [
    "----\n",
    "### Write a Model Function\n",
    "- Write a function called `create_model` which returns a compiled TensorFlow Keras Sequential Model suitable for classifying the QuickDraw-10 dataset. \n",
    "\n",
    "Your function `create_model` should accept the following parameters\n",
    "\n",
    "- Learning Rate `lr`\n",
    "- Optimizer `opt`\n",
    "\n",
    "\n",
    "Build a model with the following architecture and parameter values\n",
    "\n",
    "- Use `1 hidden layer` \n",
    "- Use `sigmoid` activation function in hidden layer\n",
    "- Use `250 nodes` in hidden layer \n",
    "- Use `10 nodes` in output layer\n",
    "- Use `softmax` activation fucntion in output layer\n",
    "- Use `sparse_categorical_crossentropy` loss function\n",
    "- Use `accuracy` as your metric \n",
    "\n",
    "We will use this function to build all the models that we'll need to run our experiments. "
   ]
  },
  {
   "cell_type": "code",
   "execution_count": 6,
   "metadata": {},
   "outputs": [
    {
     "data": {
      "text/plain": [
       "(75000, 784)"
      ]
     },
     "execution_count": 6,
     "metadata": {},
     "output_type": "execute_result"
    }
   ],
   "source": [
    "X_train.shape"
   ]
  },
  {
   "cell_type": "code",
   "execution_count": 8,
   "metadata": {
    "colab": {},
    "colab_type": "code",
    "deletable": false,
    "id": "nEREYT-3wI1f",
    "nbgrader": {
     "cell_type": "code",
     "checksum": "6692fdabca8804cd50380fd4b9a56169",
     "grade": false,
     "grade_id": "cell-355125ca910bfedb",
     "locked": false,
     "schema_version": 3,
     "solution": true,
     "task": false
    }
   },
   "outputs": [],
   "source": [
    "def create_model(lr=.01, opt=\"adam\"):\n",
    "    \"\"\"\n",
    "    \n",
    "    Build and returns a compiled Keras model.  \n",
    "    \n",
    "    Parameters\n",
    "    ----------\n",
    "    lr: float\n",
    "        Learing rate parameter used for Stocastic Gradient Descent \n",
    "        \n",
    "    opt: string\n",
    "        Name of optimizer to use\n",
    "        Valid options are \"adam\" and \"sgd\"\n",
    "        \n",
    "    Returns\n",
    "    -------\n",
    "    model: keras object \n",
    "        A complied keras model \n",
    "    \"\"\"\n",
    "\n",
    "    if opt == \"adam\":\n",
    "        opt = Adam(learning_rate=lr)\n",
    "    elif opt == 'sgd':\n",
    "        opt = SGD(learning_rate=lr)\n",
    "    else:\n",
    "        print (\"{} is not a valid option. Defaulting to Adam optimizer\".format(opt))\n",
    "        opt = Adam(learning_rate=lr)\n",
    "\n",
    "    # build model here\n",
    "    model = Sequential()\n",
    "    model.add(Dense(input_dim=X_train.shape[1], units=250, activation='sigmoid'))\n",
    "    model.add(Dense(units=10, activation='softmax'))\n",
    "    \n",
    "    model.compile(optimizer=opt, loss='sparse_categorical_crossentropy', metrics=['accuracy'])\n",
    "    return model\n",
    "    \n",
    "    \n"
   ]
  },
  {
   "cell_type": "code",
   "execution_count": 10,
   "metadata": {},
   "outputs": [
    {
     "data": {
      "text/plain": [
       "['_TF_MODULE_IGNORED_PROPERTIES',\n",
       " '__call__',\n",
       " '__class__',\n",
       " '__delattr__',\n",
       " '__dict__',\n",
       " '__dir__',\n",
       " '__doc__',\n",
       " '__eq__',\n",
       " '__format__',\n",
       " '__ge__',\n",
       " '__getattribute__',\n",
       " '__getstate__',\n",
       " '__gt__',\n",
       " '__hash__',\n",
       " '__init__',\n",
       " '__init_subclass__',\n",
       " '__le__',\n",
       " '__lt__',\n",
       " '__module__',\n",
       " '__ne__',\n",
       " '__new__',\n",
       " '__reduce__',\n",
       " '__reduce_ex__',\n",
       " '__repr__',\n",
       " '__setattr__',\n",
       " '__setstate__',\n",
       " '__sizeof__',\n",
       " '__str__',\n",
       " '__subclasshook__',\n",
       " '__weakref__',\n",
       " '_activity_regularizer',\n",
       " '_add_trackable',\n",
       " '_add_variable_with_custom_getter',\n",
       " '_assert_compile_was_called',\n",
       " '_assert_weights_created',\n",
       " '_auto_track_sub_layers',\n",
       " '_autocast',\n",
       " '_autographed_call',\n",
       " '_base_model_initialized',\n",
       " '_build_graph_network_for_inferred_shape',\n",
       " '_build_input_shape',\n",
       " '_call_accepts_kwargs',\n",
       " '_call_arg_was_passed',\n",
       " '_call_fn_arg_defaults',\n",
       " '_call_fn_arg_positions',\n",
       " '_call_fn_args',\n",
       " '_call_full_argspec',\n",
       " '_callable_losses',\n",
       " '_cast_single_input',\n",
       " '_check_call_args',\n",
       " '_checkpoint_dependencies',\n",
       " '_clear_losses',\n",
       " '_cluster_coordinator',\n",
       " '_compile_was_called',\n",
       " '_compiled_trainable_state',\n",
       " '_compute_dtype',\n",
       " '_compute_dtype_object',\n",
       " '_compute_output_and_mask_jointly',\n",
       " '_compute_tensor_usage_count',\n",
       " '_configure_steps_per_execution',\n",
       " '_conform_to_reference_input',\n",
       " '_created_nodes',\n",
       " '_dedup_weights',\n",
       " '_default_training_arg',\n",
       " '_deferred_dependencies',\n",
       " '_delete_tracking',\n",
       " '_distribution_strategy',\n",
       " '_dtype',\n",
       " '_dtype_policy',\n",
       " '_dynamic',\n",
       " '_eager_losses',\n",
       " '_expects_mask_arg',\n",
       " '_expects_training_arg',\n",
       " '_flatten',\n",
       " '_flatten_layers',\n",
       " '_flatten_modules',\n",
       " '_flatten_to_reference_inputs',\n",
       " '_functional_construction_call',\n",
       " '_gather_children_attribute',\n",
       " '_gather_saveables_for_checkpoint',\n",
       " '_get_call_arg_value',\n",
       " '_get_callback_model',\n",
       " '_get_cell_name',\n",
       " '_get_compile_args',\n",
       " '_get_existing_metric',\n",
       " '_get_input_masks',\n",
       " '_get_node_attribute_at_index',\n",
       " '_get_optimizer',\n",
       " '_get_save_spec',\n",
       " '_get_trainable_state',\n",
       " '_graph_initialized',\n",
       " '_graph_network_add_loss',\n",
       " '_graph_network_add_metric',\n",
       " '_handle_activity_regularization',\n",
       " '_handle_deferred_dependencies',\n",
       " '_handle_deferred_layer_dependencies',\n",
       " '_handle_weight_regularization',\n",
       " '_has_explicit_input_shape',\n",
       " '_in_multi_worker_mode',\n",
       " '_inbound_nodes',\n",
       " '_inbound_nodes_value',\n",
       " '_infer_output_signature',\n",
       " '_inferred_input_shape',\n",
       " '_init_batch_counters',\n",
       " '_init_call_fn_args',\n",
       " '_init_graph_network',\n",
       " '_init_set_name',\n",
       " '_initial_weights',\n",
       " '_input_dtype',\n",
       " '_input_spec',\n",
       " '_insert_layers',\n",
       " '_instrument_layer_creation',\n",
       " '_instrumented_keras_api',\n",
       " '_instrumented_keras_layer_class',\n",
       " '_instrumented_keras_model_class',\n",
       " '_is_compiled',\n",
       " '_is_graph_network',\n",
       " '_is_layer',\n",
       " '_is_layer_name_unique',\n",
       " '_is_model_for_instrumentation',\n",
       " '_keras_api_names',\n",
       " '_keras_api_names_v1',\n",
       " '_keras_tensor_symbolic_call',\n",
       " '_layer_call_argspecs',\n",
       " '_layer_checkpoint_dependencies',\n",
       " '_list_extra_dependencies_for_serialization',\n",
       " '_list_functions_for_serialization',\n",
       " '_lookup_dependency',\n",
       " '_losses',\n",
       " '_map_resources',\n",
       " '_maybe_build',\n",
       " '_maybe_cast_inputs',\n",
       " '_maybe_create_attribute',\n",
       " '_maybe_initialize_trackable',\n",
       " '_maybe_load_initial_epoch_from_ckpt',\n",
       " '_metrics',\n",
       " '_metrics_lock',\n",
       " '_must_restore_from_config',\n",
       " '_name',\n",
       " '_name_based_attribute_restore',\n",
       " '_name_based_restores',\n",
       " '_name_scope',\n",
       " '_no_dependency',\n",
       " '_non_trainable_weights',\n",
       " '_obj_reference_counts',\n",
       " '_object_identifier',\n",
       " '_outbound_nodes',\n",
       " '_outbound_nodes_value',\n",
       " '_predict_counter',\n",
       " '_preload_simple_restoration',\n",
       " '_preserve_input_structure_in_config',\n",
       " '_reset_compile_cache',\n",
       " '_restore_from_checkpoint_position',\n",
       " '_run_eagerly',\n",
       " '_run_internal_graph',\n",
       " '_saved_model_inputs_spec',\n",
       " '_self_setattr_tracking',\n",
       " '_self_tracked_trackables',\n",
       " '_set_call_arg_value',\n",
       " '_set_connectivity_metadata',\n",
       " '_set_dtype_policy',\n",
       " '_set_inputs',\n",
       " '_set_mask_keras_history_checked',\n",
       " '_set_mask_metadata',\n",
       " '_set_output_names',\n",
       " '_set_save_spec',\n",
       " '_set_trainable_state',\n",
       " '_set_training_mode',\n",
       " '_setattr_tracking',\n",
       " '_should_cast_single_input',\n",
       " '_should_compute_mask',\n",
       " '_should_eval',\n",
       " '_single_restoration_from_checkpoint_position',\n",
       " '_split_out_first_arg',\n",
       " '_stateful',\n",
       " '_steps_per_execution',\n",
       " '_supports_masking',\n",
       " '_symbolic_call',\n",
       " '_test_counter',\n",
       " '_tf_api_names',\n",
       " '_tf_api_names_v1',\n",
       " '_thread_local',\n",
       " '_track_trackable',\n",
       " '_trackable_saved_model_saver',\n",
       " '_trackable_saver',\n",
       " '_tracking_metadata',\n",
       " '_train_counter',\n",
       " '_trainable',\n",
       " '_trainable_weights',\n",
       " '_training_state',\n",
       " '_unconditional_checkpoint_dependencies',\n",
       " '_unconditional_dependency_names',\n",
       " '_undeduplicated_weights',\n",
       " '_update_uid',\n",
       " '_updated_config',\n",
       " '_updates',\n",
       " '_use_input_spec_as_call_signature',\n",
       " '_use_legacy_deferred_behavior',\n",
       " '_validate_compile',\n",
       " '_validate_graph_inputs_and_outputs',\n",
       " 'activity_regularizer',\n",
       " 'add',\n",
       " 'add_loss',\n",
       " 'add_metric',\n",
       " 'add_update',\n",
       " 'add_variable',\n",
       " 'add_weight',\n",
       " 'apply',\n",
       " 'build',\n",
       " 'built',\n",
       " 'call',\n",
       " 'compile',\n",
       " 'compiled_loss',\n",
       " 'compiled_metrics',\n",
       " 'compute_dtype',\n",
       " 'compute_mask',\n",
       " 'compute_output_shape',\n",
       " 'compute_output_signature',\n",
       " 'count_params',\n",
       " 'distribute_strategy',\n",
       " 'dtype',\n",
       " 'dtype_policy',\n",
       " 'dynamic',\n",
       " 'evaluate',\n",
       " 'evaluate_generator',\n",
       " 'fit',\n",
       " 'fit_generator',\n",
       " 'from_config',\n",
       " 'get_config',\n",
       " 'get_input_at',\n",
       " 'get_input_mask_at',\n",
       " 'get_input_shape_at',\n",
       " 'get_layer',\n",
       " 'get_losses_for',\n",
       " 'get_output_at',\n",
       " 'get_output_mask_at',\n",
       " 'get_output_shape_at',\n",
       " 'get_updates_for',\n",
       " 'get_weights',\n",
       " 'history',\n",
       " 'inbound_nodes',\n",
       " 'input',\n",
       " 'input_mask',\n",
       " 'input_names',\n",
       " 'input_shape',\n",
       " 'input_spec',\n",
       " 'inputs',\n",
       " 'layers',\n",
       " 'load_weights',\n",
       " 'losses',\n",
       " 'make_predict_function',\n",
       " 'make_test_function',\n",
       " 'make_train_function',\n",
       " 'metrics',\n",
       " 'metrics_names',\n",
       " 'name',\n",
       " 'name_scope',\n",
       " 'non_trainable_variables',\n",
       " 'non_trainable_weights',\n",
       " 'optimizer',\n",
       " 'outbound_nodes',\n",
       " 'output',\n",
       " 'output_mask',\n",
       " 'output_names',\n",
       " 'output_shape',\n",
       " 'outputs',\n",
       " 'pop',\n",
       " 'predict',\n",
       " 'predict_classes',\n",
       " 'predict_function',\n",
       " 'predict_generator',\n",
       " 'predict_on_batch',\n",
       " 'predict_proba',\n",
       " 'predict_step',\n",
       " 'reset_metrics',\n",
       " 'reset_states',\n",
       " 'run_eagerly',\n",
       " 'save',\n",
       " 'save_weights',\n",
       " 'set_weights',\n",
       " 'state_updates',\n",
       " 'stateful',\n",
       " 'stop_training',\n",
       " 'submodules',\n",
       " 'summary',\n",
       " 'supports_masking',\n",
       " 'test_function',\n",
       " 'test_on_batch',\n",
       " 'test_step',\n",
       " 'to_json',\n",
       " 'to_yaml',\n",
       " 'train_function',\n",
       " 'train_on_batch',\n",
       " 'train_step',\n",
       " 'trainable',\n",
       " 'trainable_variables',\n",
       " 'trainable_weights',\n",
       " 'updates',\n",
       " 'variable_dtype',\n",
       " 'variables',\n",
       " 'weights',\n",
       " 'with_name_scope']"
      ]
     },
     "execution_count": 10,
     "metadata": {},
     "output_type": "execute_result"
    }
   ],
   "source": [
    "dir(Sequential())"
   ]
  },
  {
   "cell_type": "code",
   "execution_count": 11,
   "metadata": {},
   "outputs": [],
   "source": [
    "# a check on model architecture\n",
    "model = create_model()\n",
    "n_layers = len(model.get_config()[\"layers\"])\n",
    "output_act_funct =  model.get_config()[\"layers\"][-1][\"config\"][\"activation\"]\n",
    "\n",
    "assert n_layers == 3, \"You should have an input, one hidden, and an output layer\"\n",
    "assert output_act_funct == \"softmax\", \"Output act funct should be softmax\""
   ]
  },
  {
   "cell_type": "markdown",
   "metadata": {},
   "source": [
    "------\n",
    "\n",
    "# Experiment #1: How does normalized input data affect our model's learning outcome?\n",
    "\n",
    "In this experiment we are going to answer the above question by training identifical models on a normalized data set and on a non-normalized data set. \n",
    "\n",
    "Then we will \n",
    "\n",
    "- Analyze the trained weight values of our model \n",
    "- Plot"
   ]
  },
  {
   "cell_type": "code",
   "execution_count": 12,
   "metadata": {},
   "outputs": [],
   "source": [
    "# Clear any logs from previous runs\n",
    "!rm -rf ./logs/"
   ]
  },
  {
   "cell_type": "markdown",
   "metadata": {},
   "source": [
    "### Fit Model on Non-Normalized data"
   ]
  },
  {
   "cell_type": "code",
   "execution_count": 14,
   "metadata": {},
   "outputs": [
    {
     "name": "stdout",
     "output_type": "stream",
     "text": [
      "Epoch 1/10\n"
     ]
    },
    {
     "name": "stderr",
     "output_type": "stream",
     "text": [
      "2021-07-24 14:31:51.774642: I tensorflow/core/profiler/lib/profiler_session.cc:126] Profiler session initializing.\n",
      "2021-07-24 14:31:51.774655: I tensorflow/core/profiler/lib/profiler_session.cc:141] Profiler session started.\n",
      "2021-07-24 14:31:51.774883: I tensorflow/core/profiler/lib/profiler_session.cc:159] Profiler session tear down.\n"
     ]
    },
    {
     "name": "stdout",
     "output_type": "stream",
     "text": [
      " 136/2344 [>.............................] - ETA: 3s - loss: 1.5185 - accuracy: 0.5159"
     ]
    },
    {
     "name": "stderr",
     "output_type": "stream",
     "text": [
      "2021-07-24 14:31:52.065272: I tensorflow/core/profiler/lib/profiler_session.cc:126] Profiler session initializing.\n",
      "2021-07-24 14:31:52.065286: I tensorflow/core/profiler/lib/profiler_session.cc:141] Profiler session started.\n",
      "2021-07-24 14:31:52.088184: I tensorflow/core/profiler/lib/profiler_session.cc:66] Profiler session collecting data.\n",
      "2021-07-24 14:31:52.088969: I tensorflow/core/profiler/lib/profiler_session.cc:159] Profiler session tear down.\n",
      "2021-07-24 14:31:52.089869: I tensorflow/core/profiler/rpc/client/save_profile.cc:137] Creating directory: logs/No_Normalization-20210724-143151/train/plugins/profile/2021_07_24_14_31_52\n",
      "2021-07-24 14:31:52.090487: I tensorflow/core/profiler/rpc/client/save_profile.cc:143] Dumped gzipped tool data for trace.json.gz to logs/No_Normalization-20210724-143151/train/plugins/profile/2021_07_24_14_31_52/Petrs-MBP.trace.json.gz\n",
      "2021-07-24 14:31:52.091675: I tensorflow/core/profiler/rpc/client/save_profile.cc:137] Creating directory: logs/No_Normalization-20210724-143151/train/plugins/profile/2021_07_24_14_31_52\n",
      "2021-07-24 14:31:52.091916: I tensorflow/core/profiler/rpc/client/save_profile.cc:143] Dumped gzipped tool data for memory_profile.json.gz to logs/No_Normalization-20210724-143151/train/plugins/profile/2021_07_24_14_31_52/Petrs-MBP.memory_profile.json.gz\n",
      "2021-07-24 14:31:52.092906: I tensorflow/core/profiler/rpc/client/capture_profile.cc:251] Creating directory: logs/No_Normalization-20210724-143151/train/plugins/profile/2021_07_24_14_31_52Dumped tool data for xplane.pb to logs/No_Normalization-20210724-143151/train/plugins/profile/2021_07_24_14_31_52/Petrs-MBP.xplane.pb\n",
      "Dumped tool data for overview_page.pb to logs/No_Normalization-20210724-143151/train/plugins/profile/2021_07_24_14_31_52/Petrs-MBP.overview_page.pb\n",
      "Dumped tool data for input_pipeline.pb to logs/No_Normalization-20210724-143151/train/plugins/profile/2021_07_24_14_31_52/Petrs-MBP.input_pipeline.pb\n",
      "Dumped tool data for tensorflow_stats.pb to logs/No_Normalization-20210724-143151/train/plugins/profile/2021_07_24_14_31_52/Petrs-MBP.tensorflow_stats.pb\n",
      "Dumped tool data for kernel_stats.pb to logs/No_Normalization-20210724-143151/train/plugins/profile/2021_07_24_14_31_52/Petrs-MBP.kernel_stats.pb\n",
      "\n"
     ]
    },
    {
     "name": "stdout",
     "output_type": "stream",
     "text": [
      "2344/2344 [==============================] - 3s 1ms/step - loss: 0.9576 - accuracy: 0.7047 - val_loss: 0.8820 - val_accuracy: 0.7256\n",
      "Epoch 2/10\n",
      "2344/2344 [==============================] - 3s 1ms/step - loss: 0.8107 - accuracy: 0.7499 - val_loss: 0.8027 - val_accuracy: 0.7536\n",
      "Epoch 3/10\n",
      "2344/2344 [==============================] - 3s 1ms/step - loss: 0.7803 - accuracy: 0.7568 - val_loss: 0.7799 - val_accuracy: 0.7569\n",
      "Epoch 4/10\n",
      "2344/2344 [==============================] - 3s 1ms/step - loss: 0.7595 - accuracy: 0.7646 - val_loss: 0.7834 - val_accuracy: 0.7549\n",
      "Epoch 5/10\n",
      "2344/2344 [==============================] - 3s 1ms/step - loss: 0.7460 - accuracy: 0.7680 - val_loss: 0.7510 - val_accuracy: 0.7687\n",
      "Epoch 6/10\n",
      "2344/2344 [==============================] - 3s 1ms/step - loss: 0.7211 - accuracy: 0.7760 - val_loss: 0.7297 - val_accuracy: 0.7730\n",
      "Epoch 7/10\n",
      "2344/2344 [==============================] - 3s 1ms/step - loss: 0.7144 - accuracy: 0.7783 - val_loss: 0.7184 - val_accuracy: 0.7747\n",
      "Epoch 8/10\n",
      "2344/2344 [==============================] - 3s 1ms/step - loss: 0.6960 - accuracy: 0.7859 - val_loss: 0.7089 - val_accuracy: 0.7791\n",
      "Epoch 9/10\n",
      "2344/2344 [==============================] - 3s 1ms/step - loss: 0.6912 - accuracy: 0.7854 - val_loss: 0.7160 - val_accuracy: 0.7722\n",
      "Epoch 10/10\n",
      "2344/2344 [==============================] - 3s 1ms/step - loss: 0.6808 - accuracy: 0.7884 - val_loss: 0.6991 - val_accuracy: 0.7867\n"
     ]
    },
    {
     "data": {
      "text/plain": [
       "<tensorflow.python.keras.callbacks.History at 0x7fa61b791ba8>"
      ]
     },
     "execution_count": 14,
     "metadata": {},
     "output_type": "execute_result"
    }
   ],
   "source": [
    "# fit model on non-normalized data\n",
    "\n",
    "now = datetime.datetime.now().strftime(\"%Y%m%d-%H%M%S\")\n",
    "logdir = os.path.join(\"logs\", f\"No_Normalization-{now}\")\n",
    "tensorboard = TensorBoard(log_dir=logdir,  histogram_freq=1)\n",
    "\n",
    "model = create_model(lr=.001, opt=\"adam\")\n",
    "\n",
    "model.fit(X_train, y_train, \n",
    "          validation_data=(X_test, y_test),\n",
    "          workers=-2, \n",
    "          epochs=10, \n",
    "          batch_size=32,  \n",
    "          callbacks=[tensorboard])"
   ]
  },
  {
   "cell_type": "markdown",
   "metadata": {},
   "source": [
    "---------\n",
    "\n",
    "### Fit Model on Normalized data"
   ]
  },
  {
   "cell_type": "code",
   "execution_count": 15,
   "metadata": {
    "deletable": false,
    "nbgrader": {
     "cell_type": "code",
     "checksum": "ccc6ed9c1e2c04f77eac26d557236dad",
     "grade": false,
     "grade_id": "cell-2792e5f1fbf02c67",
     "locked": false,
     "schema_version": 3,
     "solution": true,
     "task": false
    }
   },
   "outputs": [],
   "source": [
    "# Normalize your training and test sets \n",
    "# save normalized data to X_train_scaled and X_test_scaled\n",
    "\n",
    "# YOUR CODE HERE\n",
    "X_train_scaled = X_train / 255\n",
    "X_test_scaled = X_test / 255"
   ]
  },
  {
   "cell_type": "code",
   "execution_count": 16,
   "metadata": {},
   "outputs": [
    {
     "name": "stderr",
     "output_type": "stream",
     "text": [
      "2021-07-24 14:32:23.401987: I tensorflow/core/profiler/lib/profiler_session.cc:126] Profiler session initializing.\n",
      "2021-07-24 14:32:23.402005: I tensorflow/core/profiler/lib/profiler_session.cc:141] Profiler session started.\n",
      "2021-07-24 14:32:23.402339: I tensorflow/core/profiler/lib/profiler_session.cc:159] Profiler session tear down.\n"
     ]
    },
    {
     "name": "stdout",
     "output_type": "stream",
     "text": [
      "Epoch 1/10\n",
      " 121/2344 [>.............................] - ETA: 3s - loss: 1.3487 - accuracy: 0.5943"
     ]
    },
    {
     "name": "stderr",
     "output_type": "stream",
     "text": [
      "2021-07-24 14:32:24.230694: I tensorflow/core/profiler/lib/profiler_session.cc:126] Profiler session initializing.\n",
      "2021-07-24 14:32:24.230711: I tensorflow/core/profiler/lib/profiler_session.cc:141] Profiler session started.\n",
      "2021-07-24 14:32:24.255384: I tensorflow/core/profiler/lib/profiler_session.cc:66] Profiler session collecting data.\n",
      "2021-07-24 14:32:24.256151: I tensorflow/core/profiler/lib/profiler_session.cc:159] Profiler session tear down.\n",
      "2021-07-24 14:32:24.257134: I tensorflow/core/profiler/rpc/client/save_profile.cc:137] Creating directory: logs/Normalization-20210724-143223/train/plugins/profile/2021_07_24_14_32_24\n",
      "2021-07-24 14:32:24.257815: I tensorflow/core/profiler/rpc/client/save_profile.cc:143] Dumped gzipped tool data for trace.json.gz to logs/Normalization-20210724-143223/train/plugins/profile/2021_07_24_14_32_24/Petrs-MBP.trace.json.gz\n",
      "2021-07-24 14:32:24.259223: I tensorflow/core/profiler/rpc/client/save_profile.cc:137] Creating directory: logs/Normalization-20210724-143223/train/plugins/profile/2021_07_24_14_32_24\n",
      "2021-07-24 14:32:24.259620: I tensorflow/core/profiler/rpc/client/save_profile.cc:143] Dumped gzipped tool data for memory_profile.json.gz to logs/Normalization-20210724-143223/train/plugins/profile/2021_07_24_14_32_24/Petrs-MBP.memory_profile.json.gz\n",
      "2021-07-24 14:32:24.260479: I tensorflow/core/profiler/rpc/client/capture_profile.cc:251] Creating directory: logs/Normalization-20210724-143223/train/plugins/profile/2021_07_24_14_32_24Dumped tool data for xplane.pb to logs/Normalization-20210724-143223/train/plugins/profile/2021_07_24_14_32_24/Petrs-MBP.xplane.pb\n",
      "Dumped tool data for overview_page.pb to logs/Normalization-20210724-143223/train/plugins/profile/2021_07_24_14_32_24/Petrs-MBP.overview_page.pb\n",
      "Dumped tool data for input_pipeline.pb to logs/Normalization-20210724-143223/train/plugins/profile/2021_07_24_14_32_24/Petrs-MBP.input_pipeline.pb\n",
      "Dumped tool data for tensorflow_stats.pb to logs/Normalization-20210724-143223/train/plugins/profile/2021_07_24_14_32_24/Petrs-MBP.tensorflow_stats.pb\n",
      "Dumped tool data for kernel_stats.pb to logs/Normalization-20210724-143223/train/plugins/profile/2021_07_24_14_32_24/Petrs-MBP.kernel_stats.pb\n",
      "\n"
     ]
    },
    {
     "name": "stdout",
     "output_type": "stream",
     "text": [
      "2344/2344 [==============================] - 3s 1ms/step - loss: 0.7696 - accuracy: 0.7719 - val_loss: 0.6341 - val_accuracy: 0.8106\n",
      "Epoch 2/10\n",
      "2344/2344 [==============================] - 3s 1ms/step - loss: 0.5517 - accuracy: 0.8374 - val_loss: 0.5292 - val_accuracy: 0.8409\n",
      "Epoch 3/10\n",
      "2344/2344 [==============================] - 3s 1ms/step - loss: 0.4685 - accuracy: 0.8612 - val_loss: 0.4900 - val_accuracy: 0.8539\n",
      "Epoch 4/10\n",
      "2344/2344 [==============================] - 3s 1ms/step - loss: 0.4133 - accuracy: 0.8780 - val_loss: 0.4629 - val_accuracy: 0.8617\n",
      "Epoch 5/10\n",
      "2344/2344 [==============================] - 3s 1ms/step - loss: 0.3715 - accuracy: 0.8900 - val_loss: 0.4425 - val_accuracy: 0.8696\n",
      "Epoch 6/10\n",
      "2344/2344 [==============================] - 5s 2ms/step - loss: 0.3356 - accuracy: 0.9012 - val_loss: 0.4311 - val_accuracy: 0.8726\n",
      "Epoch 7/10\n",
      "2344/2344 [==============================] - 4s 2ms/step - loss: 0.3054 - accuracy: 0.9111 - val_loss: 0.4371 - val_accuracy: 0.8717\n",
      "Epoch 8/10\n",
      "2344/2344 [==============================] - 3s 1ms/step - loss: 0.2787 - accuracy: 0.9194 - val_loss: 0.4362 - val_accuracy: 0.8717\n",
      "Epoch 9/10\n",
      "2344/2344 [==============================] - 4s 2ms/step - loss: 0.2544 - accuracy: 0.9266 - val_loss: 0.4428 - val_accuracy: 0.8712\n",
      "Epoch 10/10\n",
      "2344/2344 [==============================] - 4s 2ms/step - loss: 0.2313 - accuracy: 0.9333 - val_loss: 0.4403 - val_accuracy: 0.8726\n"
     ]
    },
    {
     "data": {
      "text/plain": [
       "<tensorflow.python.keras.callbacks.History at 0x7fa61bfdc4a8>"
      ]
     },
     "execution_count": 16,
     "metadata": {},
     "output_type": "execute_result"
    }
   ],
   "source": [
    "# train model on normalized data\n",
    "\n",
    "now = datetime.datetime.now().strftime(\"%Y%m%d-%H%M%S\")\n",
    "logdir = os.path.join(\"logs\", f\"Normalization-{now}\")\n",
    "tensorboard = TensorBoard(log_dir=logdir,  histogram_freq=1)\n",
    "\n",
    "norm_model = create_model(lr=.001, opt=\"adam\")\n",
    "\n",
    "norm_model.fit(X_train_scaled, y_train, \n",
    "          validation_data=(X_test_scaled, y_test),\n",
    "          workers=-2, \n",
    "          epochs=10, \n",
    "          batch_size=32, \n",
    "          callbacks=[tensorboard])"
   ]
  },
  {
   "cell_type": "markdown",
   "metadata": {},
   "source": [
    "### Each layer is labeled\n",
    "\n",
    "Take note of the label for each layer in the network. It is these labels that will help you identify the corresponding bias and weight distribtuions on tensorboard. \n",
    "\n",
    "Assuming that you've ran `create_model` 3 times: once for the model check, once to create `model`, and once to create `norm_model`:\n",
    "\n",
    "The name of the layers for `model` should be \n",
    "- dense_2\n",
    "- dense_3\n",
    "\n",
    "The name of the layers for `norm_model` should be \n",
    "- dense_4\n",
    "- dense_5\n",
    "\n",
    "\n",
    "If you keep retraining one or both of these models, tensorflow will increment the integer used in the layer names.  But that doesn't really matter, just take notice of the layer names so you can find their corresponding bias and weight distribtuions in tensorboard.\n",
    "\n",
    "**Protip:** If you want to reset the integer incrementation that tensorflow uses, you'll need to restart your notebook's kernal. "
   ]
  },
  {
   "cell_type": "code",
   "execution_count": 17,
   "metadata": {},
   "outputs": [
    {
     "name": "stdout",
     "output_type": "stream",
     "text": [
      "Model: \"sequential_4\"\n",
      "_________________________________________________________________\n",
      "Layer (type)                 Output Shape              Param #   \n",
      "=================================================================\n",
      "dense_6 (Dense)              (None, 250)               196250    \n",
      "_________________________________________________________________\n",
      "dense_7 (Dense)              (None, 10)                2510      \n",
      "=================================================================\n",
      "Total params: 198,760\n",
      "Trainable params: 198,760\n",
      "Non-trainable params: 0\n",
      "_________________________________________________________________\n"
     ]
    }
   ],
   "source": [
    "model.summary()"
   ]
  },
  {
   "cell_type": "code",
   "execution_count": 18,
   "metadata": {},
   "outputs": [
    {
     "name": "stdout",
     "output_type": "stream",
     "text": [
      "Model: \"sequential_5\"\n",
      "_________________________________________________________________\n",
      "Layer (type)                 Output Shape              Param #   \n",
      "=================================================================\n",
      "dense_8 (Dense)              (None, 250)               196250    \n",
      "_________________________________________________________________\n",
      "dense_9 (Dense)              (None, 10)                2510      \n",
      "=================================================================\n",
      "Total params: 198,760\n",
      "Trainable params: 198,760\n",
      "Non-trainable params: 0\n",
      "_________________________________________________________________\n"
     ]
    }
   ],
   "source": [
    "norm_model.summary()"
   ]
  },
  {
   "cell_type": "markdown",
   "metadata": {},
   "source": [
    "### Tensorboard \n",
    "\n",
    "- Run the cell below to launch tensorboard \n",
    "- Click on the `SCALARS` tab to see plots that compare the loss and accuracy between the two models\n",
    "- Cick on the `HISTOGRAMS` tab to see the distribution of the learned weights "
   ]
  },
  {
   "cell_type": "code",
   "execution_count": 19,
   "metadata": {},
   "outputs": [
    {
     "data": {
      "text/plain": [
       "Reusing TensorBoard on port 6007 (pid 19924), started 1 day, 21:36:48 ago. (Use '!kill 19924' to kill it.)"
      ]
     },
     "metadata": {},
     "output_type": "display_data"
    },
    {
     "data": {
      "text/html": [
       "\n",
       "      <iframe id=\"tensorboard-frame-8a282d6d59de73bf\" width=\"100%\" height=\"800\" frameborder=\"0\">\n",
       "      </iframe>\n",
       "      <script>\n",
       "        (function() {\n",
       "          const frame = document.getElementById(\"tensorboard-frame-8a282d6d59de73bf\");\n",
       "          const url = new URL(\"/\", window.location);\n",
       "          const port = 6007;\n",
       "          if (port) {\n",
       "            url.port = port;\n",
       "          }\n",
       "          frame.src = url;\n",
       "        })();\n",
       "      </script>\n",
       "    "
      ],
      "text/plain": [
       "<IPython.core.display.HTML object>"
      ]
     },
     "metadata": {},
     "output_type": "display_data"
    }
   ],
   "source": [
    "%tensorboard --logdir logs"
   ]
  },
  {
   "cell_type": "markdown",
   "metadata": {},
   "source": [
    "### Tensorboard \n",
    "\n",
    "Check out the loss and accuracy plots on the `SCALARS` tab. \n",
    "\n",
    "What you should see is that the accuracy is much higher for the model that was given normalized data; conversely, the loss is much lower for the model that was given normalized data. \n",
    "\n",
    "Recall that what we are doing whenever training a model is adjusting the value of the bias and weights in each layer. For simplicity of analysis, we only trained two layers: a hidden layer and the output layer. \n",
    "\n",
    "Now click on the `HISTOGRAM` tab. \n",
    "\n",
    "You should see both of your model's layer names. \n",
    "\n",
    "### Hidden Layer Distributions\n",
    "\n",
    "Collapse the charts that correspond to the output layer so only the distributions for the weights and bias in the hidden layer are showing. (i.e. Only expand `dense_2` and `dense_4`). \n",
    "\n",
    "Also don't be confused by the word `kernel`, that's just the word that Tensorflow uses instead of weights. So, to be clear, **the kernal distributions are the weight values.** \n",
    "\n",
    "The `bias` distributions are the bias values. \n",
    "\n",
    "You should see 10 distributions stacked next to each other, **one distribution per epoch.**\n",
    "\n",
    "The distribuion in the far back corresponds to the weight values at epoch 1 (tensorflow starts the count at 0, like the index for a list). The distribution at the very front corresponds to the weight values at the 10th epoch (tensorflow indexing show 9 instead of 10).\n",
    "\n",
    "Notice how the shape of the distribution changes accross epochs? That's because their **values are being updated via Gradient Descent.** \n",
    "\n",
    "The distributions that you see are direclty responsible for the validation accuracy of our models. The reason why they look different between the two models is because one model was given normalize data and one wasn't. So you can conclude that the weight distributions in `dense_4` produce a higher validation accuracy than the weight distributions in `dense_2`. \n",
    "\n",
    "Now it's time to analyze those weight values more closely. "
   ]
  },
  {
   "cell_type": "markdown",
   "metadata": {},
   "source": [
    "----------\n",
    "### Analyze Weights in Each Layer"
   ]
  },
  {
   "cell_type": "code",
   "execution_count": 20,
   "metadata": {},
   "outputs": [],
   "source": [
    "# get the final bias and weight matrices for model\n",
    "layer = model.get_layer(name=\"dense_6\")\n",
    "bias, weights = layer.get_weights()"
   ]
  },
  {
   "cell_type": "code",
   "execution_count": 21,
   "metadata": {},
   "outputs": [],
   "source": [
    "# get the final  value bias and weight magrices for norm_model\n",
    "layer = norm_model.get_layer(name=\"dense_8\")\n",
    "bias_norm, weights_norm = layer.get_weights()"
   ]
  },
  {
   "cell_type": "code",
   "execution_count": 22,
   "metadata": {},
   "outputs": [],
   "source": [
    "# this line of code should not throw an error if the number of weights is the same for the hidden layer of both models\n",
    "# this line of code is known as a Unit Test \n",
    "assert weights.shape[0] == weights_norm.shape[0]"
   ]
  },
  {
   "cell_type": "markdown",
   "metadata": {},
   "source": [
    "### Initial Weight Values\n",
    "\n",
    "By default, Keras dense layers randomly initialize the weight values using [**GlorotUniform**](https://keras.io/api/layers/initializers/). \n",
    "\n",
    "The cell below is sampling values from the GlorotUniform distribution. Let's sample from the GlorotUniform distribution and plot it in order to get a sense of the initial distribution of our weights - before Gradient Descent starts upading their values at training time. "
   ]
  },
  {
   "cell_type": "code",
   "execution_count": 23,
   "metadata": {},
   "outputs": [],
   "source": [
    "# let's take 250 random samples form the GlorotUniform\n",
    "# because they are random samples their exact values might have been a little different for model and norm_model - but we will assume that they were not statistically different \n",
    "# 250 because that's how many weights are in the hidden layer for both of our models\n",
    "initializer = tf.keras.initializers.GlorotUniform(seed=1234)\n",
    "initial_weight_values = initializer(shape=(1, 250))"
   ]
  },
  {
   "cell_type": "code",
   "execution_count": 24,
   "metadata": {},
   "outputs": [
    {
     "data": {
      "image/png": "[encoded data removed]",
      "text/plain": [
       "<Figure size 1440x432 with 1 Axes>"
      ]
     },
     "metadata": {
      "needs_background": "light"
     },
     "output_type": "display_data"
    }
   ],
   "source": [
    "plt.figure(figsize=(20,6))\n",
    "plt.title(\"Learned Weights in Hidden Layers\")\n",
    "plt.xlabel(\"Weight Values\")\n",
    "plt.grid()\n",
    "\n",
    "# by setting density=True, we are transforming our plots into probability distributions \n",
    "plt.hist(weights, bins=20, alpha=0.5, label=\"weights from model\", density=True);\n",
    "plt.hist(weights_norm, bins=20, alpha=0.5, label=\"weights from norm_model\", density=True);\n",
    "plt.hist(initial_weight_values, bins=20, alpha=0.5, label=\"initial weight values\", density=True);\n",
    "plt.legend(fontsize=\"x-large\");"
   ]
  },
  {
   "cell_type": "markdown",
   "metadata": {},
   "source": [
    "### Observations\n",
    "\n",
    "Your plot should have 3 distributions\n",
    "\n",
    "- weights from model trained on non-normalized data\n",
    "- weights from model trained on normalized data\n",
    "- initial weight values sampled from a Glorot Uniform distributions \n",
    "\n",
    "Use the plot to answer the following questions."
   ]
  },
  {
   "cell_type": "markdown",
   "metadata": {},
   "source": [
    "**Comparing the initial weights with weights_from_model, what was the effect of not using normalized data?**"
   ]
  },
  {
   "cell_type": "markdown",
   "metadata": {
    "deletable": false,
    "nbgrader": {
     "cell_type": "markdown",
     "checksum": "500ff9c3902f635e0a9aafa64e2cc95d",
     "grade": true,
     "grade_id": "cell-4d6c92df9d105c46",
     "locked": false,
     "points": 0,
     "schema_version": 3,
     "solution": true,
     "task": false
    }
   },
   "source": [
    "The weights distribution increased marginally but not significantly. It is as if using gradient descent on non-normalised data resulted in very small incremental deviations from the initialised values."
   ]
  },
  {
   "cell_type": "markdown",
   "metadata": {},
   "source": [
    "**Comparing the initial weights with weights_from_norm_model, what was the effect of using normalized data?**"
   ]
  },
  {
   "cell_type": "markdown",
   "metadata": {
    "deletable": false,
    "nbgrader": {
     "cell_type": "markdown",
     "checksum": "23d7012c3d7ce759e5389a0dfee1892a",
     "grade": true,
     "grade_id": "cell-614992ba50bf54c4",
     "locked": false,
     "points": 0,
     "schema_version": 3,
     "solution": true,
     "task": false
    }
   },
   "source": [
    "Using normalized data resulted in gradient descent changing the weights by a relatively large amount when compared with the non-normalized data model. It is as if the act of normalizing the features to be between 0 and 1 resulted in larger incremental additions and subtractions to the node weights. "
   ]
  },
  {
   "cell_type": "markdown",
   "metadata": {},
   "source": [
    "**Using your understand of how Gradient Descent works, why do you think that the distributions between weights_from_model and weights_from_norm_model look so different?**"
   ]
  },
  {
   "cell_type": "markdown",
   "metadata": {
    "deletable": false,
    "nbgrader": {
     "cell_type": "markdown",
     "checksum": "52e82163ac0a8d8b47bc613199650fe2",
     "grade": true,
     "grade_id": "cell-598a597c991950f8",
     "locked": false,
     "points": 0,
     "schema_version": 3,
     "solution": true,
     "task": false
    }
   },
   "source": [
    "It is clear that the weights learned by the norm_model are larger in abolute terms, on average, than the regular model. In addition the model_norm weights are motre widley distributed between -1 and 1, indicating the adjustments made by gradient descent varied greatly from node to node when each node toom inputs ranging from 0 and 1 instead of the non-normalise 1 - 255. \n",
    "\n",
    "I believe these two distributionsa re different because the model_norm converged more quickly on optimal parameters. By normalising the input pixels, our model has a smoother cost function to chain-differentiate at each layer and node, thus reaching  higher parameter values (in absolute terms) with the same number of epochs. In contrast the non-normalised model cost function would need to be trained for many more epochs to reach get closer to the minimum of the cost function."
   ]
  },
  {
   "cell_type": "markdown",
   "metadata": {},
   "source": [
    "----\n",
    "\n",
    "# Additional Experiments\n",
    "\n",
    "The previous experiment demonstrated the importance of normalizing our data in order to maximize model accuracy. In the next few experiments, we are going to explore the effect that certain values for Batch Size, Learning Rate, and different Optimizers have on model accuracy. \n",
    "\n",
    "Using our **create_model** model building function, conduct the following experiments. "
   ]
  },
  {
   "cell_type": "markdown",
   "metadata": {
    "colab_type": "text",
    "id": "f0pCkh8C7eGL"
   },
   "source": [
    "### Experiment with Batch Size\n",
    "* Run 5 experiments with various batch sizes of your choice. \n",
    "* Visualize the results\n",
    "* Write up an analysis of the experiments and select the \"best\" performing model among your experiments. Make sure to compare against your model's performance yesterday. "
   ]
  },
  {
   "cell_type": "code",
   "execution_count": 32,
   "metadata": {
    "colab": {},
    "colab_type": "code",
    "id": "USXjs7Hk71Hy"
   },
   "outputs": [
    {
     "name": "stderr",
     "output_type": "stream",
     "text": [
      "2021-07-24 14:52:35.078711: I tensorflow/core/profiler/lib/profiler_session.cc:126] Profiler session initializing.\n",
      "2021-07-24 14:52:35.078728: I tensorflow/core/profiler/lib/profiler_session.cc:141] Profiler session started.\n",
      "2021-07-24 14:52:35.079247: I tensorflow/core/profiler/lib/profiler_session.cc:159] Profiler session tear down.\n"
     ]
    },
    {
     "name": "stdout",
     "output_type": "stream",
     "text": [
      "Epoch 1/5\n",
      "  173/37500 [..............................] - ETA: 43s - loss: 1.7913 - accuracy: 0.3960   "
     ]
    },
    {
     "name": "stderr",
     "output_type": "stream",
     "text": [
      "2021-07-24 14:52:35.544188: I tensorflow/core/profiler/lib/profiler_session.cc:126] Profiler session initializing.\n",
      "2021-07-24 14:52:35.544220: I tensorflow/core/profiler/lib/profiler_session.cc:141] Profiler session started.\n",
      "2021-07-24 14:52:35.568798: I tensorflow/core/profiler/lib/profiler_session.cc:66] Profiler session collecting data.\n",
      "2021-07-24 14:52:35.569604: I tensorflow/core/profiler/lib/profiler_session.cc:159] Profiler session tear down.\n",
      "2021-07-24 14:52:35.570504: I tensorflow/core/profiler/rpc/client/save_profile.cc:137] Creating directory: logs/bs_1-20210724-145104/train/plugins/profile/2021_07_24_14_52_35\n",
      "2021-07-24 14:52:35.571065: I tensorflow/core/profiler/rpc/client/save_profile.cc:143] Dumped gzipped tool data for trace.json.gz to logs/bs_1-20210724-145104/train/plugins/profile/2021_07_24_14_52_35/Petrs-MBP.trace.json.gz\n",
      "2021-07-24 14:52:35.572002: I tensorflow/core/profiler/rpc/client/save_profile.cc:137] Creating directory: logs/bs_1-20210724-145104/train/plugins/profile/2021_07_24_14_52_35\n",
      "2021-07-24 14:52:35.572210: I tensorflow/core/profiler/rpc/client/save_profile.cc:143] Dumped gzipped tool data for memory_profile.json.gz to logs/bs_1-20210724-145104/train/plugins/profile/2021_07_24_14_52_35/Petrs-MBP.memory_profile.json.gz\n",
      "2021-07-24 14:52:35.573018: I tensorflow/core/profiler/rpc/client/capture_profile.cc:251] Creating directory: logs/bs_1-20210724-145104/train/plugins/profile/2021_07_24_14_52_35Dumped tool data for xplane.pb to logs/bs_1-20210724-145104/train/plugins/profile/2021_07_24_14_52_35/Petrs-MBP.xplane.pb\n",
      "Dumped tool data for overview_page.pb to logs/bs_1-20210724-145104/train/plugins/profile/2021_07_24_14_52_35/Petrs-MBP.overview_page.pb\n",
      "Dumped tool data for input_pipeline.pb to logs/bs_1-20210724-145104/train/plugins/profile/2021_07_24_14_52_35/Petrs-MBP.input_pipeline.pb\n",
      "Dumped tool data for tensorflow_stats.pb to logs/bs_1-20210724-145104/train/plugins/profile/2021_07_24_14_52_35/Petrs-MBP.tensorflow_stats.pb\n",
      "Dumped tool data for kernel_stats.pb to logs/bs_1-20210724-145104/train/plugins/profile/2021_07_24_14_52_35/Petrs-MBP.kernel_stats.pb\n",
      "\n"
     ]
    },
    {
     "name": "stdout",
     "output_type": "stream",
     "text": [
      "37500/37500 [==============================] - 38s 1ms/step - loss: 0.6290 - accuracy: 0.8091 - val_loss: 0.5315 - val_accuracy: 0.8397\n",
      "Epoch 2/5\n",
      "37500/37500 [==============================] - 39s 1ms/step - loss: 0.4528 - accuracy: 0.8639 - val_loss: 0.5049 - val_accuracy: 0.8527\n",
      "Epoch 3/5\n",
      "37500/37500 [==============================] - 39s 1ms/step - loss: 0.3839 - accuracy: 0.8856 - val_loss: 0.5094 - val_accuracy: 0.8553\n",
      "Epoch 4/5\n",
      "37500/37500 [==============================] - 39s 1ms/step - loss: 0.3362 - accuracy: 0.8986 - val_loss: 0.4849 - val_accuracy: 0.8622\n",
      "Epoch 5/5\n",
      "37500/37500 [==============================] - 40s 1ms/step - loss: 0.2928 - accuracy: 0.9114 - val_loss: 0.5234 - val_accuracy: 0.8584\n"
     ]
    },
    {
     "data": {
      "text/plain": [
       "<tensorflow.python.keras.callbacks.History at 0x7fa5d9589e48>"
      ]
     },
     "execution_count": 32,
     "metadata": {},
     "output_type": "execute_result"
    }
   ],
   "source": [
    "mnow = datetime.datetime.now().strftime(\"%Y%m%d-%H%M%S\")\n",
    "logdir = os.path.join(\"logs\", f\"bs_1-{now}\")\n",
    "tensorboard = TensorBoard(log_dir=logdir,  histogram_freq=1)\n",
    "\n",
    "\n",
    "model_bs_1 = create_model(lr=.001, opt=\"adam\")\n",
    "\n",
    "model_bs_1.fit(X_train_scaled, y_train, \n",
    "          validation_data=(X_test_scaled, y_test),\n",
    "          workers=-2, \n",
    "          epochs=5, \n",
    "          batch_size=2, \n",
    "          callbacks=[tensorboard])"
   ]
  },
  {
   "cell_type": "code",
   "execution_count": 33,
   "metadata": {},
   "outputs": [
    {
     "name": "stderr",
     "output_type": "stream",
     "text": [
      "2021-07-24 14:55:49.966980: I tensorflow/core/profiler/lib/profiler_session.cc:126] Profiler session initializing.\n",
      "2021-07-24 14:55:49.967000: I tensorflow/core/profiler/lib/profiler_session.cc:141] Profiler session started.\n",
      "2021-07-24 14:55:49.967361: I tensorflow/core/profiler/lib/profiler_session.cc:159] Profiler session tear down.\n"
     ]
    },
    {
     "name": "stdout",
     "output_type": "stream",
     "text": [
      "Epoch 1/5\n",
      " 152/4688 [..............................] - ETA: 6s - loss: 1.3757 - accuracy: 0.5765"
     ]
    },
    {
     "name": "stderr",
     "output_type": "stream",
     "text": [
      "2021-07-24 14:55:50.421448: I tensorflow/core/profiler/lib/profiler_session.cc:126] Profiler session initializing.\n",
      "2021-07-24 14:55:50.421471: I tensorflow/core/profiler/lib/profiler_session.cc:141] Profiler session started.\n",
      "2021-07-24 14:55:50.444190: I tensorflow/core/profiler/lib/profiler_session.cc:66] Profiler session collecting data.\n",
      "2021-07-24 14:55:50.444941: I tensorflow/core/profiler/lib/profiler_session.cc:159] Profiler session tear down.\n",
      "2021-07-24 14:55:50.445890: I tensorflow/core/profiler/rpc/client/save_profile.cc:137] Creating directory: logs/bs_2-20210724-145549/train/plugins/profile/2021_07_24_14_55_50\n",
      "2021-07-24 14:55:50.446404: I tensorflow/core/profiler/rpc/client/save_profile.cc:143] Dumped gzipped tool data for trace.json.gz to logs/bs_2-20210724-145549/train/plugins/profile/2021_07_24_14_55_50/Petrs-MBP.trace.json.gz\n",
      "2021-07-24 14:55:50.447492: I tensorflow/core/profiler/rpc/client/save_profile.cc:137] Creating directory: logs/bs_2-20210724-145549/train/plugins/profile/2021_07_24_14_55_50\n",
      "2021-07-24 14:55:50.447658: I tensorflow/core/profiler/rpc/client/save_profile.cc:143] Dumped gzipped tool data for memory_profile.json.gz to logs/bs_2-20210724-145549/train/plugins/profile/2021_07_24_14_55_50/Petrs-MBP.memory_profile.json.gz\n",
      "2021-07-24 14:55:50.450385: I tensorflow/core/profiler/rpc/client/capture_profile.cc:251] Creating directory: logs/bs_2-20210724-145549/train/plugins/profile/2021_07_24_14_55_50Dumped tool data for xplane.pb to logs/bs_2-20210724-145549/train/plugins/profile/2021_07_24_14_55_50/Petrs-MBP.xplane.pb\n",
      "Dumped tool data for overview_page.pb to logs/bs_2-20210724-145549/train/plugins/profile/2021_07_24_14_55_50/Petrs-MBP.overview_page.pb\n",
      "Dumped tool data for input_pipeline.pb to logs/bs_2-20210724-145549/train/plugins/profile/2021_07_24_14_55_50/Petrs-MBP.input_pipeline.pb\n",
      "Dumped tool data for tensorflow_stats.pb to logs/bs_2-20210724-145549/train/plugins/profile/2021_07_24_14_55_50/Petrs-MBP.tensorflow_stats.pb\n",
      "Dumped tool data for kernel_stats.pb to logs/bs_2-20210724-145549/train/plugins/profile/2021_07_24_14_55_50/Petrs-MBP.kernel_stats.pb\n",
      "\n"
     ]
    },
    {
     "name": "stdout",
     "output_type": "stream",
     "text": [
      "4688/4688 [==============================] - 6s 1ms/step - loss: 0.7226 - accuracy: 0.7844 - val_loss: 0.5845 - val_accuracy: 0.8264\n",
      "Epoch 2/5\n",
      "4688/4688 [==============================] - 5s 1ms/step - loss: 0.5046 - accuracy: 0.8502 - val_loss: 0.5218 - val_accuracy: 0.8406\n",
      "Epoch 3/5\n",
      "4688/4688 [==============================] - 5s 1ms/step - loss: 0.4251 - accuracy: 0.8729 - val_loss: 0.4702 - val_accuracy: 0.8612\n",
      "Epoch 4/5\n",
      "4688/4688 [==============================] - 6s 1ms/step - loss: 0.3721 - accuracy: 0.8882 - val_loss: 0.4606 - val_accuracy: 0.8609\n",
      "Epoch 5/5\n",
      "4688/4688 [==============================] - 6s 1ms/step - loss: 0.3286 - accuracy: 0.9016 - val_loss: 0.4595 - val_accuracy: 0.8641\n"
     ]
    },
    {
     "data": {
      "text/plain": [
       "<tensorflow.python.keras.callbacks.History at 0x7fa5d98b6438>"
      ]
     },
     "execution_count": 33,
     "metadata": {},
     "output_type": "execute_result"
    }
   ],
   "source": [
    "now = datetime.datetime.now().strftime(\"%Y%m%d-%H%M%S\")\n",
    "logdir = os.path.join(\"logs\", f\"bs_2-{now}\")\n",
    "tensorboard = TensorBoard(log_dir=logdir,  histogram_freq=1)\n",
    "\n",
    "\n",
    "model_bs_2 = create_model(lr=.001, opt=\"adam\")\n",
    "\n",
    "model_bs_2.fit(X_train_scaled, y_train, \n",
    "          validation_data=(X_test_scaled, y_test),\n",
    "          workers=-2, \n",
    "          epochs=5, \n",
    "          batch_size=16, \n",
    "          callbacks=[tensorboard])"
   ]
  },
  {
   "cell_type": "code",
   "execution_count": 34,
   "metadata": {},
   "outputs": [
    {
     "name": "stderr",
     "output_type": "stream",
     "text": [
      "2021-07-24 14:56:18.494705: I tensorflow/core/profiler/lib/profiler_session.cc:126] Profiler session initializing.\n",
      "2021-07-24 14:56:18.494723: I tensorflow/core/profiler/lib/profiler_session.cc:141] Profiler session started.\n",
      "2021-07-24 14:56:18.495329: I tensorflow/core/profiler/lib/profiler_session.cc:159] Profiler session tear down.\n"
     ]
    },
    {
     "name": "stdout",
     "output_type": "stream",
     "text": [
      "Epoch 1/5\n",
      "  72/1172 [>.............................] - ETA: 3s - loss: 1.4654 - accuracy: 0.5688"
     ]
    },
    {
     "name": "stderr",
     "output_type": "stream",
     "text": [
      "2021-07-24 14:56:19.246229: I tensorflow/core/profiler/lib/profiler_session.cc:126] Profiler session initializing.\n",
      "2021-07-24 14:56:19.246248: I tensorflow/core/profiler/lib/profiler_session.cc:141] Profiler session started.\n",
      "2021-07-24 14:56:19.284148: I tensorflow/core/profiler/lib/profiler_session.cc:66] Profiler session collecting data.\n",
      "2021-07-24 14:56:19.285376: I tensorflow/core/profiler/lib/profiler_session.cc:159] Profiler session tear down.\n",
      "2021-07-24 14:56:19.287399: I tensorflow/core/profiler/rpc/client/save_profile.cc:137] Creating directory: logs/bs_3-20210724-145618/train/plugins/profile/2021_07_24_14_56_19\n",
      "2021-07-24 14:56:19.288029: I tensorflow/core/profiler/rpc/client/save_profile.cc:143] Dumped gzipped tool data for trace.json.gz to logs/bs_3-20210724-145618/train/plugins/profile/2021_07_24_14_56_19/Petrs-MBP.trace.json.gz\n",
      "2021-07-24 14:56:19.289296: I tensorflow/core/profiler/rpc/client/save_profile.cc:137] Creating directory: logs/bs_3-20210724-145618/train/plugins/profile/2021_07_24_14_56_19\n",
      "2021-07-24 14:56:19.289523: I tensorflow/core/profiler/rpc/client/save_profile.cc:143] Dumped gzipped tool data for memory_profile.json.gz to logs/bs_3-20210724-145618/train/plugins/profile/2021_07_24_14_56_19/Petrs-MBP.memory_profile.json.gz\n",
      "2021-07-24 14:56:19.291144: I tensorflow/core/profiler/rpc/client/capture_profile.cc:251] Creating directory: logs/bs_3-20210724-145618/train/plugins/profile/2021_07_24_14_56_19Dumped tool data for xplane.pb to logs/bs_3-20210724-145618/train/plugins/profile/2021_07_24_14_56_19/Petrs-MBP.xplane.pb\n",
      "Dumped tool data for overview_page.pb to logs/bs_3-20210724-145618/train/plugins/profile/2021_07_24_14_56_19/Petrs-MBP.overview_page.pb\n",
      "Dumped tool data for input_pipeline.pb to logs/bs_3-20210724-145618/train/plugins/profile/2021_07_24_14_56_19/Petrs-MBP.input_pipeline.pb\n",
      "Dumped tool data for tensorflow_stats.pb to logs/bs_3-20210724-145618/train/plugins/profile/2021_07_24_14_56_19/Petrs-MBP.tensorflow_stats.pb\n",
      "Dumped tool data for kernel_stats.pb to logs/bs_3-20210724-145618/train/plugins/profile/2021_07_24_14_56_19/Petrs-MBP.kernel_stats.pb\n",
      "\n"
     ]
    },
    {
     "name": "stdout",
     "output_type": "stream",
     "text": [
      "1172/1172 [==============================] - 2s 2ms/step - loss: 0.8270 - accuracy: 0.7579 - val_loss: 0.6813 - val_accuracy: 0.8009\n",
      "Epoch 2/5\n",
      "1172/1172 [==============================] - 2s 2ms/step - loss: 0.6050 - accuracy: 0.8228 - val_loss: 0.5905 - val_accuracy: 0.8248\n",
      "Epoch 3/5\n",
      "1172/1172 [==============================] - 2s 2ms/step - loss: 0.5164 - accuracy: 0.8486 - val_loss: 0.5298 - val_accuracy: 0.8410\n",
      "Epoch 4/5\n",
      "1172/1172 [==============================] - 2s 2ms/step - loss: 0.4605 - accuracy: 0.8644 - val_loss: 0.4907 - val_accuracy: 0.8548\n",
      "Epoch 5/5\n",
      "1172/1172 [==============================] - 2s 2ms/step - loss: 0.4187 - accuracy: 0.8767 - val_loss: 0.4767 - val_accuracy: 0.8561\n"
     ]
    },
    {
     "data": {
      "text/plain": [
       "<tensorflow.python.keras.callbacks.History at 0x7fa5c9a625c0>"
      ]
     },
     "execution_count": 34,
     "metadata": {},
     "output_type": "execute_result"
    }
   ],
   "source": [
    "now = datetime.datetime.now().strftime(\"%Y%m%d-%H%M%S\")\n",
    "logdir = os.path.join(\"logs\", f\"bs_3-{now}\")\n",
    "tensorboard = TensorBoard(log_dir=logdir,  histogram_freq=1)\n",
    "\n",
    "\n",
    "model_bs_3 = create_model(lr=.001, opt=\"adam\")\n",
    "\n",
    "model_bs_3.fit(X_train_scaled, y_train, \n",
    "          validation_data=(X_test_scaled, y_test),\n",
    "          workers=-2, \n",
    "          epochs=5, \n",
    "          batch_size=64, \n",
    "          callbacks=[tensorboard])"
   ]
  },
  {
   "cell_type": "code",
   "execution_count": 35,
   "metadata": {},
   "outputs": [
    {
     "name": "stderr",
     "output_type": "stream",
     "text": [
      "2021-07-24 14:56:28.947747: I tensorflow/core/profiler/lib/profiler_session.cc:126] Profiler session initializing.\n",
      "2021-07-24 14:56:28.947759: I tensorflow/core/profiler/lib/profiler_session.cc:141] Profiler session started.\n",
      "2021-07-24 14:56:28.948087: I tensorflow/core/profiler/lib/profiler_session.cc:159] Profiler session tear down.\n"
     ]
    },
    {
     "name": "stdout",
     "output_type": "stream",
     "text": [
      "Epoch 1/5\n",
      " 82/293 [=======>......................] - ETA: 0s - loss: 1.2655 - accuracy: 0.6436"
     ]
    },
    {
     "name": "stderr",
     "output_type": "stream",
     "text": [
      "2021-07-24 14:56:29.393308: I tensorflow/core/profiler/lib/profiler_session.cc:126] Profiler session initializing.\n",
      "2021-07-24 14:56:29.393323: I tensorflow/core/profiler/lib/profiler_session.cc:141] Profiler session started.\n",
      "2021-07-24 14:56:29.417387: I tensorflow/core/profiler/lib/profiler_session.cc:66] Profiler session collecting data.\n",
      "2021-07-24 14:56:29.418192: I tensorflow/core/profiler/lib/profiler_session.cc:159] Profiler session tear down.\n",
      "2021-07-24 14:56:29.419069: I tensorflow/core/profiler/rpc/client/save_profile.cc:137] Creating directory: logs/bs_4-20210724-145628/train/plugins/profile/2021_07_24_14_56_29\n",
      "2021-07-24 14:56:29.419562: I tensorflow/core/profiler/rpc/client/save_profile.cc:143] Dumped gzipped tool data for trace.json.gz to logs/bs_4-20210724-145628/train/plugins/profile/2021_07_24_14_56_29/Petrs-MBP.trace.json.gz\n",
      "2021-07-24 14:56:29.420622: I tensorflow/core/profiler/rpc/client/save_profile.cc:137] Creating directory: logs/bs_4-20210724-145628/train/plugins/profile/2021_07_24_14_56_29\n",
      "2021-07-24 14:56:29.420786: I tensorflow/core/profiler/rpc/client/save_profile.cc:143] Dumped gzipped tool data for memory_profile.json.gz to logs/bs_4-20210724-145628/train/plugins/profile/2021_07_24_14_56_29/Petrs-MBP.memory_profile.json.gz\n",
      "2021-07-24 14:56:29.421436: I tensorflow/core/profiler/rpc/client/capture_profile.cc:251] Creating directory: logs/bs_4-20210724-145628/train/plugins/profile/2021_07_24_14_56_29Dumped tool data for xplane.pb to logs/bs_4-20210724-145628/train/plugins/profile/2021_07_24_14_56_29/Petrs-MBP.xplane.pb\n",
      "Dumped tool data for overview_page.pb to logs/bs_4-20210724-145628/train/plugins/profile/2021_07_24_14_56_29/Petrs-MBP.overview_page.pb\n",
      "Dumped tool data for input_pipeline.pb to logs/bs_4-20210724-145628/train/plugins/profile/2021_07_24_14_56_29/Petrs-MBP.input_pipeline.pb\n",
      "Dumped tool data for tensorflow_stats.pb to logs/bs_4-20210724-145628/train/plugins/profile/2021_07_24_14_56_29/Petrs-MBP.tensorflow_stats.pb\n",
      "Dumped tool data for kernel_stats.pb to logs/bs_4-20210724-145628/train/plugins/profile/2021_07_24_14_56_29/Petrs-MBP.kernel_stats.pb\n",
      "\n"
     ]
    },
    {
     "name": "stdout",
     "output_type": "stream",
     "text": [
      "293/293 [==============================] - 1s 3ms/step - loss: 0.9636 - accuracy: 0.7227 - val_loss: 0.7933 - val_accuracy: 0.7666\n",
      "Epoch 2/5\n",
      "293/293 [==============================] - 1s 3ms/step - loss: 0.7280 - accuracy: 0.7880 - val_loss: 0.7023 - val_accuracy: 0.7952\n",
      "Epoch 3/5\n",
      "293/293 [==============================] - 1s 3ms/step - loss: 0.6453 - accuracy: 0.8127 - val_loss: 0.6367 - val_accuracy: 0.8116\n",
      "Epoch 4/5\n",
      "293/293 [==============================] - 1s 3ms/step - loss: 0.5847 - accuracy: 0.8301 - val_loss: 0.5928 - val_accuracy: 0.8238\n",
      "Epoch 5/5\n",
      "293/293 [==============================] - 1s 2ms/step - loss: 0.5382 - accuracy: 0.8429 - val_loss: 0.5527 - val_accuracy: 0.8342\n"
     ]
    },
    {
     "data": {
      "text/plain": [
       "<tensorflow.python.keras.callbacks.History at 0x7fa5a94550f0>"
      ]
     },
     "execution_count": 35,
     "metadata": {},
     "output_type": "execute_result"
    }
   ],
   "source": [
    "now = datetime.datetime.now().strftime(\"%Y%m%d-%H%M%S\")\n",
    "logdir = os.path.join(\"logs\", f\"bs_4-{now}\")\n",
    "tensorboard = TensorBoard(log_dir=logdir,  histogram_freq=1)\n",
    "\n",
    "\n",
    "model_bs_4 = create_model(lr=.001, opt=\"adam\")\n",
    "\n",
    "model_bs_4.fit(X_train_scaled, y_train, \n",
    "          validation_data=(X_test_scaled, y_test),\n",
    "          workers=-2, \n",
    "          epochs=5, \n",
    "          batch_size=256, \n",
    "          callbacks=[tensorboard])"
   ]
  },
  {
   "cell_type": "code",
   "execution_count": 40,
   "metadata": {},
   "outputs": [
    {
     "name": "stderr",
     "output_type": "stream",
     "text": [
      "2021-07-24 14:59:26.750573: I tensorflow/core/profiler/lib/profiler_session.cc:126] Profiler session initializing.\n",
      "2021-07-24 14:59:26.750589: I tensorflow/core/profiler/lib/profiler_session.cc:141] Profiler session started.\n",
      "2021-07-24 14:59:26.751720: I tensorflow/core/profiler/lib/profiler_session.cc:159] Profiler session tear down.\n"
     ]
    },
    {
     "name": "stdout",
     "output_type": "stream",
     "text": [
      "Epoch 1/5\n",
      "36/75 [=============>................] - ETA: 0s - loss: 1.5397 - accuracy: 0.5666"
     ]
    },
    {
     "name": "stderr",
     "output_type": "stream",
     "text": [
      "2021-07-24 14:59:27.232105: I tensorflow/core/profiler/lib/profiler_session.cc:126] Profiler session initializing.\n",
      "2021-07-24 14:59:27.232146: I tensorflow/core/profiler/lib/profiler_session.cc:141] Profiler session started.\n",
      "2021-07-24 14:59:27.261303: I tensorflow/core/profiler/lib/profiler_session.cc:66] Profiler session collecting data.\n",
      "2021-07-24 14:59:27.262080: I tensorflow/core/profiler/lib/profiler_session.cc:159] Profiler session tear down.\n",
      "2021-07-24 14:59:27.263184: I tensorflow/core/profiler/rpc/client/save_profile.cc:137] Creating directory: logs/bs_5-20210724-145926/train/plugins/profile/2021_07_24_14_59_27\n",
      "2021-07-24 14:59:27.264197: I tensorflow/core/profiler/rpc/client/save_profile.cc:143] Dumped gzipped tool data for trace.json.gz to logs/bs_5-20210724-145926/train/plugins/profile/2021_07_24_14_59_27/Petrs-MBP.trace.json.gz\n",
      "2021-07-24 14:59:27.265940: I tensorflow/core/profiler/rpc/client/save_profile.cc:137] Creating directory: logs/bs_5-20210724-145926/train/plugins/profile/2021_07_24_14_59_27\n",
      "2021-07-24 14:59:27.266261: I tensorflow/core/profiler/rpc/client/save_profile.cc:143] Dumped gzipped tool data for memory_profile.json.gz to logs/bs_5-20210724-145926/train/plugins/profile/2021_07_24_14_59_27/Petrs-MBP.memory_profile.json.gz\n",
      "2021-07-24 14:59:27.269745: I tensorflow/core/profiler/rpc/client/capture_profile.cc:251] Creating directory: logs/bs_5-20210724-145926/train/plugins/profile/2021_07_24_14_59_27Dumped tool data for xplane.pb to logs/bs_5-20210724-145926/train/plugins/profile/2021_07_24_14_59_27/Petrs-MBP.xplane.pb\n",
      "Dumped tool data for overview_page.pb to logs/bs_5-20210724-145926/train/plugins/profile/2021_07_24_14_59_27/Petrs-MBP.overview_page.pb\n",
      "Dumped tool data for input_pipeline.pb to logs/bs_5-20210724-145926/train/plugins/profile/2021_07_24_14_59_27/Petrs-MBP.input_pipeline.pb\n",
      "Dumped tool data for tensorflow_stats.pb to logs/bs_5-20210724-145926/train/plugins/profile/2021_07_24_14_59_27/Petrs-MBP.tensorflow_stats.pb\n",
      "Dumped tool data for kernel_stats.pb to logs/bs_5-20210724-145926/train/plugins/profile/2021_07_24_14_59_27/Petrs-MBP.kernel_stats.pb\n",
      "\n"
     ]
    },
    {
     "name": "stdout",
     "output_type": "stream",
     "text": [
      "75/75 [==============================] - 1s 11ms/step - loss: 1.2635 - accuracy: 0.6440 - val_loss: 0.9474 - val_accuracy: 0.7257\n",
      "Epoch 2/5\n",
      "75/75 [==============================] - 1s 7ms/step - loss: 0.8688 - accuracy: 0.7493 - val_loss: 0.8427 - val_accuracy: 0.7562\n",
      "Epoch 3/5\n",
      "75/75 [==============================] - 0s 6ms/step - loss: 0.7948 - accuracy: 0.7700 - val_loss: 0.7901 - val_accuracy: 0.7678\n",
      "Epoch 4/5\n",
      "75/75 [==============================] - 1s 7ms/step - loss: 0.7477 - accuracy: 0.7835 - val_loss: 0.7514 - val_accuracy: 0.7789\n",
      "Epoch 5/5\n",
      "75/75 [==============================] - 1s 7ms/step - loss: 0.7075 - accuracy: 0.7943 - val_loss: 0.7150 - val_accuracy: 0.7916\n"
     ]
    },
    {
     "data": {
      "text/plain": [
       "<tensorflow.python.keras.callbacks.History at 0x7fa579d136d8>"
      ]
     },
     "execution_count": 40,
     "metadata": {},
     "output_type": "execute_result"
    }
   ],
   "source": [
    "now = datetime.datetime.now().strftime(\"%Y%m%d-%H%M%S\")\n",
    "logdir = os.path.join(\"logs\", f\"bs_5-{now}\")\n",
    "tensorboard = TensorBoard(log_dir=logdir,  histogram_freq=1)\n",
    "\n",
    "\n",
    "model_bs_5 = create_model(lr=.001, opt=\"adam\")\n",
    "\n",
    "model_bs_5.fit(X_train_scaled, y_train, \n",
    "          validation_data=(X_test_scaled, y_test),\n",
    "          workers=-2, \n",
    "          epochs=5, \n",
    "          batch_size=1000, \n",
    "          callbacks=[tensorboard])"
   ]
  },
  {
   "cell_type": "markdown",
   "metadata": {
    "colab_type": "text",
    "id": "8b-r70o8p2Dm"
   },
   "source": [
    "### Experiment with Learning Rate\n",
    "* Run 5 experiments with various learning rate magnitudes: 1, .1, .01, .001, .0001.\n",
    "* Use the \"best\" batch size from the previous experiment\n",
    "* Visualize the results\n",
    "* Write up an analysis of the experiments and select the \"best\" performing model among your experiments. Make sure to compare against the previous experiments and your model's performance yesterday. "
   ]
  },
  {
   "cell_type": "code",
   "execution_count": 42,
   "metadata": {
    "colab": {},
    "colab_type": "code",
    "id": "_SA144xx8Luf"
   },
   "outputs": [
    {
     "name": "stderr",
     "output_type": "stream",
     "text": [
      "2021-07-24 15:01:17.039963: I tensorflow/core/profiler/lib/profiler_session.cc:126] Profiler session initializing.\n",
      "2021-07-24 15:01:17.039981: I tensorflow/core/profiler/lib/profiler_session.cc:141] Profiler session started.\n",
      "2021-07-24 15:01:17.040454: I tensorflow/core/profiler/lib/profiler_session.cc:159] Profiler session tear down.\n"
     ]
    },
    {
     "name": "stdout",
     "output_type": "stream",
     "text": [
      "Epoch 1/5\n",
      " 117/2344 [>.............................] - ETA: 3s - loss: 1.4043 - accuracy: 0.5793"
     ]
    },
    {
     "name": "stderr",
     "output_type": "stream",
     "text": [
      "2021-07-24 15:01:17.538562: I tensorflow/core/profiler/lib/profiler_session.cc:126] Profiler session initializing.\n",
      "2021-07-24 15:01:17.538588: I tensorflow/core/profiler/lib/profiler_session.cc:141] Profiler session started.\n",
      "2021-07-24 15:01:17.561940: I tensorflow/core/profiler/lib/profiler_session.cc:66] Profiler session collecting data.\n",
      "2021-07-24 15:01:17.562908: I tensorflow/core/profiler/lib/profiler_session.cc:159] Profiler session tear down.\n",
      "2021-07-24 15:01:17.564084: I tensorflow/core/profiler/rpc/client/save_profile.cc:137] Creating directory: logs/lr_1-20210724-150117/train/plugins/profile/2021_07_24_15_01_17\n",
      "2021-07-24 15:01:17.564985: I tensorflow/core/profiler/rpc/client/save_profile.cc:143] Dumped gzipped tool data for trace.json.gz to logs/lr_1-20210724-150117/train/plugins/profile/2021_07_24_15_01_17/Petrs-MBP.trace.json.gz\n",
      "2021-07-24 15:01:17.566355: I tensorflow/core/profiler/rpc/client/save_profile.cc:137] Creating directory: logs/lr_1-20210724-150117/train/plugins/profile/2021_07_24_15_01_17\n",
      "2021-07-24 15:01:17.566553: I tensorflow/core/profiler/rpc/client/save_profile.cc:143] Dumped gzipped tool data for memory_profile.json.gz to logs/lr_1-20210724-150117/train/plugins/profile/2021_07_24_15_01_17/Petrs-MBP.memory_profile.json.gz\n",
      "2021-07-24 15:01:17.569095: I tensorflow/core/profiler/rpc/client/capture_profile.cc:251] Creating directory: logs/lr_1-20210724-150117/train/plugins/profile/2021_07_24_15_01_17Dumped tool data for xplane.pb to logs/lr_1-20210724-150117/train/plugins/profile/2021_07_24_15_01_17/Petrs-MBP.xplane.pb\n",
      "Dumped tool data for overview_page.pb to logs/lr_1-20210724-150117/train/plugins/profile/2021_07_24_15_01_17/Petrs-MBP.overview_page.pb\n",
      "Dumped tool data for input_pipeline.pb to logs/lr_1-20210724-150117/train/plugins/profile/2021_07_24_15_01_17/Petrs-MBP.input_pipeline.pb\n",
      "Dumped tool data for tensorflow_stats.pb to logs/lr_1-20210724-150117/train/plugins/profile/2021_07_24_15_01_17/Petrs-MBP.tensorflow_stats.pb\n",
      "Dumped tool data for kernel_stats.pb to logs/lr_1-20210724-150117/train/plugins/profile/2021_07_24_15_01_17/Petrs-MBP.kernel_stats.pb\n",
      "\n"
     ]
    },
    {
     "name": "stdout",
     "output_type": "stream",
     "text": [
      "2344/2344 [==============================] - 3s 1ms/step - loss: 0.7752 - accuracy: 0.7714 - val_loss: 0.6233 - val_accuracy: 0.8165\n",
      "Epoch 2/5\n",
      "2344/2344 [==============================] - 3s 1ms/step - loss: 0.5518 - accuracy: 0.8363 - val_loss: 0.5314 - val_accuracy: 0.8423\n",
      "Epoch 3/5\n",
      "2344/2344 [==============================] - 3s 1ms/step - loss: 0.4662 - accuracy: 0.8613 - val_loss: 0.4946 - val_accuracy: 0.8528\n",
      "Epoch 4/5\n",
      "2344/2344 [==============================] - 3s 1ms/step - loss: 0.4116 - accuracy: 0.8781 - val_loss: 0.4664 - val_accuracy: 0.8615\n",
      "Epoch 5/5\n",
      "2344/2344 [==============================] - 3s 1ms/step - loss: 0.3701 - accuracy: 0.8912 - val_loss: 0.4423 - val_accuracy: 0.8672\n"
     ]
    },
    {
     "data": {
      "text/plain": [
       "<tensorflow.python.keras.callbacks.History at 0x7fa551920c50>"
      ]
     },
     "execution_count": 42,
     "metadata": {},
     "output_type": "execute_result"
    }
   ],
   "source": [
    "now = datetime.datetime.now().strftime(\"%Y%m%d-%H%M%S\")\n",
    "logdir = os.path.join(\"logs\", f\"lr_1-{now}\")\n",
    "tensorboard = TensorBoard(log_dir=logdir,  histogram_freq=1)\n",
    "\n",
    "\n",
    "model_lr_1 = create_model(lr=.001, opt=\"adam\")\n",
    "\n",
    "model_lr_1.fit(X_train_scaled, y_train, \n",
    "          validation_data=(X_test_scaled, y_test),\n",
    "          workers=-2, \n",
    "          epochs=5, \n",
    "          batch_size=32, \n",
    "          callbacks=[tensorboard])"
   ]
  },
  {
   "cell_type": "code",
   "execution_count": 43,
   "metadata": {},
   "outputs": [
    {
     "name": "stderr",
     "output_type": "stream",
     "text": [
      "2021-07-24 15:01:32.426670: I tensorflow/core/profiler/lib/profiler_session.cc:126] Profiler session initializing.\n",
      "2021-07-24 15:01:32.426697: I tensorflow/core/profiler/lib/profiler_session.cc:141] Profiler session started.\n",
      "2021-07-24 15:01:32.427436: I tensorflow/core/profiler/lib/profiler_session.cc:159] Profiler session tear down.\n"
     ]
    },
    {
     "name": "stdout",
     "output_type": "stream",
     "text": [
      "Epoch 1/5\n",
      " 112/2344 [>.............................] - ETA: 4s - loss: 1.0861 - accuracy: 0.6476"
     ]
    },
    {
     "name": "stderr",
     "output_type": "stream",
     "text": [
      "2021-07-24 15:01:32.879478: I tensorflow/core/profiler/lib/profiler_session.cc:126] Profiler session initializing.\n",
      "2021-07-24 15:01:32.879498: I tensorflow/core/profiler/lib/profiler_session.cc:141] Profiler session started.\n",
      "2021-07-24 15:01:32.909061: I tensorflow/core/profiler/lib/profiler_session.cc:66] Profiler session collecting data.\n",
      "2021-07-24 15:01:32.909907: I tensorflow/core/profiler/lib/profiler_session.cc:159] Profiler session tear down.\n",
      "2021-07-24 15:01:32.910806: I tensorflow/core/profiler/rpc/client/save_profile.cc:137] Creating directory: logs/lr_2-20210724-150132/train/plugins/profile/2021_07_24_15_01_32\n",
      "2021-07-24 15:01:32.911376: I tensorflow/core/profiler/rpc/client/save_profile.cc:143] Dumped gzipped tool data for trace.json.gz to logs/lr_2-20210724-150132/train/plugins/profile/2021_07_24_15_01_32/Petrs-MBP.trace.json.gz\n",
      "2021-07-24 15:01:32.912424: I tensorflow/core/profiler/rpc/client/save_profile.cc:137] Creating directory: logs/lr_2-20210724-150132/train/plugins/profile/2021_07_24_15_01_32\n",
      "2021-07-24 15:01:32.912677: I tensorflow/core/profiler/rpc/client/save_profile.cc:143] Dumped gzipped tool data for memory_profile.json.gz to logs/lr_2-20210724-150132/train/plugins/profile/2021_07_24_15_01_32/Petrs-MBP.memory_profile.json.gz\n",
      "2021-07-24 15:01:32.915081: I tensorflow/core/profiler/rpc/client/capture_profile.cc:251] Creating directory: logs/lr_2-20210724-150132/train/plugins/profile/2021_07_24_15_01_32Dumped tool data for xplane.pb to logs/lr_2-20210724-150132/train/plugins/profile/2021_07_24_15_01_32/Petrs-MBP.xplane.pb\n",
      "Dumped tool data for overview_page.pb to logs/lr_2-20210724-150132/train/plugins/profile/2021_07_24_15_01_32/Petrs-MBP.overview_page.pb\n",
      "Dumped tool data for input_pipeline.pb to logs/lr_2-20210724-150132/train/plugins/profile/2021_07_24_15_01_32/Petrs-MBP.input_pipeline.pb\n",
      "Dumped tool data for tensorflow_stats.pb to logs/lr_2-20210724-150132/train/plugins/profile/2021_07_24_15_01_32/Petrs-MBP.tensorflow_stats.pb\n",
      "Dumped tool data for kernel_stats.pb to logs/lr_2-20210724-150132/train/plugins/profile/2021_07_24_15_01_32/Petrs-MBP.kernel_stats.pb\n",
      "\n"
     ]
    },
    {
     "name": "stdout",
     "output_type": "stream",
     "text": [
      "2344/2344 [==============================] - 3s 1ms/step - loss: 0.6540 - accuracy: 0.8000 - val_loss: 0.5946 - val_accuracy: 0.8202\n",
      "Epoch 2/5\n",
      "2344/2344 [==============================] - 4s 2ms/step - loss: 0.5344 - accuracy: 0.8391 - val_loss: 0.5572 - val_accuracy: 0.8352\n",
      "Epoch 3/5\n",
      "2344/2344 [==============================] - 3s 1ms/step - loss: 0.4975 - accuracy: 0.8493 - val_loss: 0.5512 - val_accuracy: 0.8367\n",
      "Epoch 4/5\n",
      "2344/2344 [==============================] - 3s 1ms/step - loss: 0.4697 - accuracy: 0.8592 - val_loss: 0.5670 - val_accuracy: 0.8339\n",
      "Epoch 5/5\n",
      "2344/2344 [==============================] - 4s 2ms/step - loss: 0.4516 - accuracy: 0.8631 - val_loss: 0.5499 - val_accuracy: 0.8398\n"
     ]
    },
    {
     "data": {
      "text/plain": [
       "<tensorflow.python.keras.callbacks.History at 0x7fa549af70b8>"
      ]
     },
     "execution_count": 43,
     "metadata": {},
     "output_type": "execute_result"
    }
   ],
   "source": [
    "now = datetime.datetime.now().strftime(\"%Y%m%d-%H%M%S\")\n",
    "logdir = os.path.join(\"logs\", f\"lr_2-{now}\")\n",
    "tensorboard = TensorBoard(log_dir=logdir,  histogram_freq=1)\n",
    "\n",
    "\n",
    "model_lr_2 = create_model(lr=.01, opt=\"adam\")\n",
    "\n",
    "model_lr_2.fit(X_train_scaled, y_train, \n",
    "          validation_data=(X_test_scaled, y_test),\n",
    "          workers=-2, \n",
    "          epochs=5, \n",
    "          batch_size=32, \n",
    "          callbacks=[tensorboard])"
   ]
  },
  {
   "cell_type": "code",
   "execution_count": 44,
   "metadata": {},
   "outputs": [
    {
     "name": "stderr",
     "output_type": "stream",
     "text": [
      "2021-07-24 15:01:49.976394: I tensorflow/core/profiler/lib/profiler_session.cc:126] Profiler session initializing.\n",
      "2021-07-24 15:01:49.976408: I tensorflow/core/profiler/lib/profiler_session.cc:141] Profiler session started.\n",
      "2021-07-24 15:01:49.977237: I tensorflow/core/profiler/lib/profiler_session.cc:159] Profiler session tear down.\n"
     ]
    },
    {
     "name": "stdout",
     "output_type": "stream",
     "text": [
      "Epoch 1/5\n",
      "  68/2344 [..............................] - ETA: 5s - loss: 1.4575 - accuracy: 0.5588"
     ]
    },
    {
     "name": "stderr",
     "output_type": "stream",
     "text": [
      "2021-07-24 15:01:50.980857: I tensorflow/core/profiler/lib/profiler_session.cc:126] Profiler session initializing.\n",
      "2021-07-24 15:01:50.980874: I tensorflow/core/profiler/lib/profiler_session.cc:141] Profiler session started.\n",
      "2021-07-24 15:01:51.009225: I tensorflow/core/profiler/lib/profiler_session.cc:66] Profiler session collecting data.\n",
      "2021-07-24 15:01:51.010325: I tensorflow/core/profiler/lib/profiler_session.cc:159] Profiler session tear down.\n",
      "2021-07-24 15:01:51.012078: I tensorflow/core/profiler/rpc/client/save_profile.cc:137] Creating directory: logs/lr_3-20210724-150149/train/plugins/profile/2021_07_24_15_01_51\n",
      "2021-07-24 15:01:51.013725: I tensorflow/core/profiler/rpc/client/save_profile.cc:143] Dumped gzipped tool data for trace.json.gz to logs/lr_3-20210724-150149/train/plugins/profile/2021_07_24_15_01_51/Petrs-MBP.trace.json.gz\n",
      "2021-07-24 15:01:51.015238: I tensorflow/core/profiler/rpc/client/save_profile.cc:137] Creating directory: logs/lr_3-20210724-150149/train/plugins/profile/2021_07_24_15_01_51\n",
      "2021-07-24 15:01:51.015477: I tensorflow/core/profiler/rpc/client/save_profile.cc:143] Dumped gzipped tool data for memory_profile.json.gz to logs/lr_3-20210724-150149/train/plugins/profile/2021_07_24_15_01_51/Petrs-MBP.memory_profile.json.gz\n",
      "2021-07-24 15:01:51.016477: I tensorflow/core/profiler/rpc/client/capture_profile.cc:251] Creating directory: logs/lr_3-20210724-150149/train/plugins/profile/2021_07_24_15_01_51Dumped tool data for xplane.pb to logs/lr_3-20210724-150149/train/plugins/profile/2021_07_24_15_01_51/Petrs-MBP.xplane.pb\n",
      "Dumped tool data for overview_page.pb to logs/lr_3-20210724-150149/train/plugins/profile/2021_07_24_15_01_51/Petrs-MBP.overview_page.pb\n",
      "Dumped tool data for input_pipeline.pb to logs/lr_3-20210724-150149/train/plugins/profile/2021_07_24_15_01_51/Petrs-MBP.input_pipeline.pb\n",
      "Dumped tool data for tensorflow_stats.pb to logs/lr_3-20210724-150149/train/plugins/profile/2021_07_24_15_01_51/Petrs-MBP.tensorflow_stats.pb\n",
      "Dumped tool data for kernel_stats.pb to logs/lr_3-20210724-150149/train/plugins/profile/2021_07_24_15_01_51/Petrs-MBP.kernel_stats.pb\n",
      "\n"
     ]
    },
    {
     "name": "stdout",
     "output_type": "stream",
     "text": [
      "2344/2344 [==============================] - 5s 2ms/step - loss: 0.9410 - accuracy: 0.7136 - val_loss: 0.8203 - val_accuracy: 0.7538\n",
      "Epoch 2/5\n",
      "2344/2344 [==============================] - 3s 1ms/step - loss: 0.8730 - accuracy: 0.7369 - val_loss: 0.9128 - val_accuracy: 0.7370\n",
      "Epoch 3/5\n",
      "2344/2344 [==============================] - 3s 1ms/step - loss: 0.8535 - accuracy: 0.7460 - val_loss: 0.7946 - val_accuracy: 0.7578\n",
      "Epoch 4/5\n",
      "2344/2344 [==============================] - 3s 1ms/step - loss: 0.8294 - accuracy: 0.7526 - val_loss: 0.8773 - val_accuracy: 0.7405\n",
      "Epoch 5/5\n",
      "2344/2344 [==============================] - 3s 1ms/step - loss: 0.8112 - accuracy: 0.7609 - val_loss: 0.8161 - val_accuracy: 0.7542\n"
     ]
    },
    {
     "data": {
      "text/plain": [
       "<tensorflow.python.keras.callbacks.History at 0x7fa529462c88>"
      ]
     },
     "execution_count": 44,
     "metadata": {},
     "output_type": "execute_result"
    }
   ],
   "source": [
    "now = datetime.datetime.now().strftime(\"%Y%m%d-%H%M%S\")\n",
    "logdir = os.path.join(\"logs\", f\"lr_3-{now}\")\n",
    "tensorboard = TensorBoard(log_dir=logdir,  histogram_freq=1)\n",
    "\n",
    "\n",
    "model_lr_3 = create_model(lr=.05, opt=\"adam\")\n",
    "\n",
    "model_lr_3.fit(X_train_scaled, y_train, \n",
    "          validation_data=(X_test_scaled, y_test),\n",
    "          workers=-2, \n",
    "          epochs=5, \n",
    "          batch_size=32, \n",
    "          callbacks=[tensorboard])"
   ]
  },
  {
   "cell_type": "code",
   "execution_count": 45,
   "metadata": {},
   "outputs": [
    {
     "name": "stderr",
     "output_type": "stream",
     "text": [
      "2021-07-24 15:02:07.715774: I tensorflow/core/profiler/lib/profiler_session.cc:126] Profiler session initializing.\n",
      "2021-07-24 15:02:07.715788: I tensorflow/core/profiler/lib/profiler_session.cc:141] Profiler session started.\n",
      "2021-07-24 15:02:07.716308: I tensorflow/core/profiler/lib/profiler_session.cc:159] Profiler session tear down.\n"
     ]
    },
    {
     "name": "stdout",
     "output_type": "stream",
     "text": [
      "Epoch 1/5\n",
      " 139/2344 [>.............................] - ETA: 3s - loss: 1.7565 - accuracy: 0.5058"
     ]
    },
    {
     "name": "stderr",
     "output_type": "stream",
     "text": [
      "2021-07-24 15:02:08.775370: I tensorflow/core/profiler/lib/profiler_session.cc:126] Profiler session initializing.\n",
      "2021-07-24 15:02:08.775385: I tensorflow/core/profiler/lib/profiler_session.cc:141] Profiler session started.\n",
      "2021-07-24 15:02:08.801784: I tensorflow/core/profiler/lib/profiler_session.cc:66] Profiler session collecting data.\n",
      "2021-07-24 15:02:08.802695: I tensorflow/core/profiler/lib/profiler_session.cc:159] Profiler session tear down.\n",
      "2021-07-24 15:02:08.803762: I tensorflow/core/profiler/rpc/client/save_profile.cc:137] Creating directory: logs/lr_4-20210724-150207/train/plugins/profile/2021_07_24_15_02_08\n",
      "2021-07-24 15:02:08.804645: I tensorflow/core/profiler/rpc/client/save_profile.cc:143] Dumped gzipped tool data for trace.json.gz to logs/lr_4-20210724-150207/train/plugins/profile/2021_07_24_15_02_08/Petrs-MBP.trace.json.gz\n",
      "2021-07-24 15:02:08.806048: I tensorflow/core/profiler/rpc/client/save_profile.cc:137] Creating directory: logs/lr_4-20210724-150207/train/plugins/profile/2021_07_24_15_02_08\n",
      "2021-07-24 15:02:08.806292: I tensorflow/core/profiler/rpc/client/save_profile.cc:143] Dumped gzipped tool data for memory_profile.json.gz to logs/lr_4-20210724-150207/train/plugins/profile/2021_07_24_15_02_08/Petrs-MBP.memory_profile.json.gz\n",
      "2021-07-24 15:02:08.808050: I tensorflow/core/profiler/rpc/client/capture_profile.cc:251] Creating directory: logs/lr_4-20210724-150207/train/plugins/profile/2021_07_24_15_02_08Dumped tool data for xplane.pb to logs/lr_4-20210724-150207/train/plugins/profile/2021_07_24_15_02_08/Petrs-MBP.xplane.pb\n",
      "Dumped tool data for overview_page.pb to logs/lr_4-20210724-150207/train/plugins/profile/2021_07_24_15_02_08/Petrs-MBP.overview_page.pb\n",
      "Dumped tool data for input_pipeline.pb to logs/lr_4-20210724-150207/train/plugins/profile/2021_07_24_15_02_08/Petrs-MBP.input_pipeline.pb\n",
      "Dumped tool data for tensorflow_stats.pb to logs/lr_4-20210724-150207/train/plugins/profile/2021_07_24_15_02_08/Petrs-MBP.tensorflow_stats.pb\n",
      "Dumped tool data for kernel_stats.pb to logs/lr_4-20210724-150207/train/plugins/profile/2021_07_24_15_02_08/Petrs-MBP.kernel_stats.pb\n",
      "\n"
     ]
    },
    {
     "name": "stdout",
     "output_type": "stream",
     "text": [
      "2344/2344 [==============================] - 4s 1ms/step - loss: 1.1202 - accuracy: 0.6558 - val_loss: 1.0470 - val_accuracy: 0.6686\n",
      "Epoch 2/5\n",
      "2344/2344 [==============================] - 3s 1ms/step - loss: 1.0091 - accuracy: 0.6928 - val_loss: 1.0307 - val_accuracy: 0.6950\n",
      "Epoch 3/5\n",
      "2344/2344 [==============================] - 4s 2ms/step - loss: 0.9636 - accuracy: 0.7147 - val_loss: 0.9301 - val_accuracy: 0.7359\n",
      "Epoch 4/5\n",
      "2344/2344 [==============================] - 3s 1ms/step - loss: 0.9829 - accuracy: 0.7131 - val_loss: 0.9598 - val_accuracy: 0.7104\n",
      "Epoch 5/5\n",
      "2344/2344 [==============================] - 3s 1ms/step - loss: 0.9366 - accuracy: 0.7225 - val_loss: 0.9494 - val_accuracy: 0.7344\n"
     ]
    },
    {
     "data": {
      "text/plain": [
       "<tensorflow.python.keras.callbacks.History at 0x7fa529b9f470>"
      ]
     },
     "execution_count": 45,
     "metadata": {},
     "output_type": "execute_result"
    }
   ],
   "source": [
    "now = datetime.datetime.now().strftime(\"%Y%m%d-%H%M%S\")\n",
    "logdir = os.path.join(\"logs\", f\"lr_4-{now}\")\n",
    "tensorboard = TensorBoard(log_dir=logdir,  histogram_freq=1)\n",
    "\n",
    "\n",
    "model_lr_4 = create_model(lr=.1, opt=\"adam\")\n",
    "\n",
    "model_lr_4.fit(X_train_scaled, y_train, \n",
    "          validation_data=(X_test_scaled, y_test),\n",
    "          workers=-2, \n",
    "          epochs=5, \n",
    "          batch_size=32, \n",
    "          callbacks=[tensorboard])"
   ]
  },
  {
   "cell_type": "code",
   "execution_count": 46,
   "metadata": {},
   "outputs": [
    {
     "name": "stderr",
     "output_type": "stream",
     "text": [
      "2021-07-24 15:02:25.194015: I tensorflow/core/profiler/lib/profiler_session.cc:126] Profiler session initializing.\n",
      "2021-07-24 15:02:25.194047: I tensorflow/core/profiler/lib/profiler_session.cc:141] Profiler session started.\n",
      "2021-07-24 15:02:25.194353: I tensorflow/core/profiler/lib/profiler_session.cc:159] Profiler session tear down.\n"
     ]
    },
    {
     "name": "stdout",
     "output_type": "stream",
     "text": [
      "Epoch 1/5\n",
      " 137/2344 [>.............................] - ETA: 3s - loss: 12.3088 - accuracy: 0.3501"
     ]
    },
    {
     "name": "stderr",
     "output_type": "stream",
     "text": [
      "2021-07-24 15:02:25.610042: I tensorflow/core/profiler/lib/profiler_session.cc:126] Profiler session initializing.\n",
      "2021-07-24 15:02:25.610057: I tensorflow/core/profiler/lib/profiler_session.cc:141] Profiler session started.\n",
      "2021-07-24 15:02:25.632716: I tensorflow/core/profiler/lib/profiler_session.cc:66] Profiler session collecting data.\n",
      "2021-07-24 15:02:25.633514: I tensorflow/core/profiler/lib/profiler_session.cc:159] Profiler session tear down.\n",
      "2021-07-24 15:02:25.634402: I tensorflow/core/profiler/rpc/client/save_profile.cc:137] Creating directory: logs/lr_5-20210724-150225/train/plugins/profile/2021_07_24_15_02_25\n",
      "2021-07-24 15:02:25.634949: I tensorflow/core/profiler/rpc/client/save_profile.cc:143] Dumped gzipped tool data for trace.json.gz to logs/lr_5-20210724-150225/train/plugins/profile/2021_07_24_15_02_25/Petrs-MBP.trace.json.gz\n",
      "2021-07-24 15:02:25.636016: I tensorflow/core/profiler/rpc/client/save_profile.cc:137] Creating directory: logs/lr_5-20210724-150225/train/plugins/profile/2021_07_24_15_02_25\n",
      "2021-07-24 15:02:25.636199: I tensorflow/core/profiler/rpc/client/save_profile.cc:143] Dumped gzipped tool data for memory_profile.json.gz to logs/lr_5-20210724-150225/train/plugins/profile/2021_07_24_15_02_25/Petrs-MBP.memory_profile.json.gz\n",
      "2021-07-24 15:02:25.636934: I tensorflow/core/profiler/rpc/client/capture_profile.cc:251] Creating directory: logs/lr_5-20210724-150225/train/plugins/profile/2021_07_24_15_02_25Dumped tool data for xplane.pb to logs/lr_5-20210724-150225/train/plugins/profile/2021_07_24_15_02_25/Petrs-MBP.xplane.pb\n",
      "Dumped tool data for overview_page.pb to logs/lr_5-20210724-150225/train/plugins/profile/2021_07_24_15_02_25/Petrs-MBP.overview_page.pb\n",
      "Dumped tool data for input_pipeline.pb to logs/lr_5-20210724-150225/train/plugins/profile/2021_07_24_15_02_25/Petrs-MBP.input_pipeline.pb\n",
      "Dumped tool data for tensorflow_stats.pb to logs/lr_5-20210724-150225/train/plugins/profile/2021_07_24_15_02_25/Petrs-MBP.tensorflow_stats.pb\n",
      "Dumped tool data for kernel_stats.pb to logs/lr_5-20210724-150225/train/plugins/profile/2021_07_24_15_02_25/Petrs-MBP.kernel_stats.pb\n",
      "\n"
     ]
    },
    {
     "name": "stdout",
     "output_type": "stream",
     "text": [
      "2344/2344 [==============================] - 4s 1ms/step - loss: 5.8180 - accuracy: 0.4216 - val_loss: 4.8006 - val_accuracy: 0.4286\n",
      "Epoch 2/5\n",
      "2344/2344 [==============================] - 3s 1ms/step - loss: 5.1011 - accuracy: 0.4827 - val_loss: 5.1474 - val_accuracy: 0.4524\n",
      "Epoch 3/5\n",
      "2344/2344 [==============================] - 3s 1ms/step - loss: 4.8384 - accuracy: 0.5042 - val_loss: 4.5908 - val_accuracy: 0.5992\n",
      "Epoch 4/5\n",
      "2344/2344 [==============================] - 3s 1ms/step - loss: 5.0620 - accuracy: 0.5054 - val_loss: 7.4124 - val_accuracy: 0.4613\n",
      "Epoch 5/5\n",
      "2344/2344 [==============================] - 4s 1ms/step - loss: 5.4677 - accuracy: 0.4949 - val_loss: 4.3820 - val_accuracy: 0.5536\n"
     ]
    },
    {
     "data": {
      "text/plain": [
       "<tensorflow.python.keras.callbacks.History at 0x7fa551916a90>"
      ]
     },
     "execution_count": 46,
     "metadata": {},
     "output_type": "execute_result"
    }
   ],
   "source": [
    "now = datetime.datetime.now().strftime(\"%Y%m%d-%H%M%S\")\n",
    "logdir = os.path.join(\"logs\", f\"lr_5-{now}\")\n",
    "tensorboard = TensorBoard(log_dir=logdir,  histogram_freq=1)\n",
    "\n",
    "\n",
    "model_lr_5 = create_model(lr=.5, opt=\"adam\")\n",
    "\n",
    "model_lr_5.fit(X_train_scaled, y_train, \n",
    "          validation_data=(X_test_scaled, y_test),\n",
    "          workers=-2, \n",
    "          epochs=5, \n",
    "          batch_size=32, \n",
    "          callbacks=[tensorboard])"
   ]
  },
  {
   "cell_type": "markdown",
   "metadata": {
    "colab_type": "text",
    "id": "gxMtSRhV9Q7I"
   },
   "source": [
    "### Experiment with different Optimizers\n",
    "* Run 5 experiments with various optimizers available in TensorFlow. See list [here](https://www.tensorflow.org/api_docs/python/tf/keras/optimizers)\n",
    "* Visualize the results\n",
    "* Write up an analysis of the experiments and select the \"best\" performing model among your experiments. Make sure to compare against the previous experiments and your model's performance yesterday.\n",
    "* Repeat the experiment combining Learning Rate and different optimizers. Does the best performing model change? "
   ]
  },
  {
   "cell_type": "code",
   "execution_count": 41,
   "metadata": {},
   "outputs": [
    {
     "data": {
      "text/plain": [
       "Reusing TensorBoard on port 6007 (pid 19924), started 1 day, 22:02:42 ago. (Use '!kill 19924' to kill it.)"
      ]
     },
     "metadata": {},
     "output_type": "display_data"
    },
    {
     "data": {
      "text/html": [
       "\n",
       "      <iframe id=\"tensorboard-frame-386dc58bcfab9e51\" width=\"100%\" height=\"800\" frameborder=\"0\">\n",
       "      </iframe>\n",
       "      <script>\n",
       "        (function() {\n",
       "          const frame = document.getElementById(\"tensorboard-frame-386dc58bcfab9e51\");\n",
       "          const url = new URL(\"/\", window.location);\n",
       "          const port = 6007;\n",
       "          if (port) {\n",
       "            url.port = port;\n",
       "          }\n",
       "          frame.src = url;\n",
       "        })();\n",
       "      </script>\n",
       "    "
      ],
      "text/plain": [
       "<IPython.core.display.HTML object>"
      ]
     },
     "metadata": {},
     "output_type": "display_data"
    }
   ],
   "source": [
    "%tensorboard --logdir logs"
   ]
  },
  {
   "cell_type": "markdown",
   "metadata": {
    "colab_type": "text",
    "id": "FwlRJSfBlCvy"
   },
   "source": [
    "------\n",
    "\n",
    "## Stretch Goals: \n",
    "\n",
    "- On the learning rate experiments, implement [EarlyStopping](https://keras.io/api/callbacks/early_stopping/)\n",
    "- Review the math of Gradient Descent. "
   ]
  }
 ],
 "metadata": {
  "colab": {
   "collapsed_sections": [],
   "name": "LS_DS_432_Train_Assignment.ipynb",
   "provenance": []
  },
  "kernelspec": {
   "display_name": "Unit_4 (Python3)",
   "language": "python",
   "name": "unit_4p"
  },
  "language_info": {
   "codemirror_mode": {
    "name": "ipython",
    "version": 3
   },
   "file_extension": ".py",
   "mimetype": "text/x-python",
   "name": "python",
   "nbconvert_exporter": "python",
   "pygments_lexer": "ipython3",
   "version": "3.7.0"
  },
  "nteract": {
   "version": "0.22.4"
  }
 },
 "nbformat": 4,
 "nbformat_minor": 4
}
